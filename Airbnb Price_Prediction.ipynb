{
 "cells": [
  {
   "cell_type": "raw",
   "metadata": {},
   "source": [
    "Definition of variables\n",
    "\n",
    "room_id: A unique number identifying an Airbnb listing. The listing has a URL on the Airbnb web site of http://airbnb.com/rooms/room_id\n",
    "\n",
    "host_id: A unique number identifying an Airbnb host. The host’s page has a URL on the Airbnb web site of http://airbnb.com/users/show/host_id\n",
    "\n",
    "room_type: One of “Entire home/apt”, “Private room”, or “Shared room”\n",
    "\n",
    "borough: A subregion of the city or search area for which the survey is carried out. The borough is taken from a shapefile of the city that is obtained independently of the Airbnb web site. For some cities, there is no borough information; for others the borough may be a number. If you have better shapefiles for a city of interest, please send them to me.\n",
    "\n",
    "neighborhood: As with borough: a subregion of the city or search area for which the survey is carried out. For cities that have both, a neighbourhood is smaller than a borough. For some cities there is no neighbourhood information.\n",
    "\n",
    "reviews: The number of reviews that a listing has received. Airbnb has said that 70% of visits end up with a review, so the number of reviews can be used to estimate the number of visits. Note that such an estimate will not be reliable for an individual listing (especially as reviews occasionally vanish from the site), but over a city as a whole it should be a useful metric of traffic.\n",
    "\n",
    "overall_satisfaction: The average rating (out of five) that the listing has received from those visitors who left a review.\n",
    "accommodates: The number of guests a listing can accommodate.\n",
    "\n",
    "bedrooms: The number of bedrooms a listing offers.\n",
    "\n",
    "price: The price (in $US) for a night stay. In early surveys, there may be some values that were recorded by month.\n",
    "\n",
    "minstay: The minimum stay for a visit, as posted by the host.\n",
    "\n",
    "latitude and longitude: The latitude and longitude of the listing as posted on the Airbnb site: this may be off by a few \n",
    "hundred metres. I do not have a way to track individual listing locations with\n",
    "\n",
    "last_modified: the date and time that the values were read from the Airbnb web site."
   ]
  },
  {
   "cell_type": "code",
   "execution_count": 1,
   "metadata": {},
   "outputs": [],
   "source": [
    "import pandas as pd\n",
    "import matplotlib.pyplot as plt\n",
    "%matplotlib inline"
   ]
  },
  {
   "cell_type": "code",
   "execution_count": 3,
   "metadata": {},
   "outputs": [],
   "source": [
    "airbnb = pd.read_csv('price.csv')"
   ]
  },
  {
   "cell_type": "code",
   "execution_count": 4,
   "metadata": {},
   "outputs": [
    {
     "data": {
      "text/html": [
       "<div>\n",
       "<style scoped>\n",
       "    .dataframe tbody tr th:only-of-type {\n",
       "        vertical-align: middle;\n",
       "    }\n",
       "\n",
       "    .dataframe tbody tr th {\n",
       "        vertical-align: top;\n",
       "    }\n",
       "\n",
       "    .dataframe thead th {\n",
       "        text-align: right;\n",
       "    }\n",
       "</style>\n",
       "<table border=\"1\" class=\"dataframe\">\n",
       "  <thead>\n",
       "    <tr style=\"text-align: right;\">\n",
       "      <th></th>\n",
       "      <th>room_id</th>\n",
       "      <th>survey_id</th>\n",
       "      <th>host_id</th>\n",
       "      <th>room_type</th>\n",
       "      <th>country</th>\n",
       "      <th>city</th>\n",
       "      <th>borough</th>\n",
       "      <th>neighborhood</th>\n",
       "      <th>reviews</th>\n",
       "      <th>overall_satisfaction</th>\n",
       "      <th>accommodates</th>\n",
       "      <th>bedrooms</th>\n",
       "      <th>bathrooms</th>\n",
       "      <th>price</th>\n",
       "      <th>minstay</th>\n",
       "      <th>name</th>\n",
       "      <th>last_modified</th>\n",
       "      <th>latitude</th>\n",
       "      <th>longitude</th>\n",
       "      <th>location</th>\n",
       "    </tr>\n",
       "  </thead>\n",
       "  <tbody>\n",
       "    <tr>\n",
       "      <th>0</th>\n",
       "      <td>10176931</td>\n",
       "      <td>1476</td>\n",
       "      <td>49180562</td>\n",
       "      <td>Shared room</td>\n",
       "      <td>NaN</td>\n",
       "      <td>Amsterdam</td>\n",
       "      <td>NaN</td>\n",
       "      <td>De Pijp / Rivierenbuurt</td>\n",
       "      <td>7</td>\n",
       "      <td>4.5</td>\n",
       "      <td>2</td>\n",
       "      <td>1.0</td>\n",
       "      <td>NaN</td>\n",
       "      <td>156.0</td>\n",
       "      <td>NaN</td>\n",
       "      <td>Red Light/ Canal view apartment (Shared)</td>\n",
       "      <td>2017-07-23 13:06:27.391699</td>\n",
       "      <td>52.356209</td>\n",
       "      <td>4.887491</td>\n",
       "      <td>0101000020E610000033FAD170CA8C13403BC5AA41982D...</td>\n",
       "    </tr>\n",
       "    <tr>\n",
       "      <th>1</th>\n",
       "      <td>8935871</td>\n",
       "      <td>1476</td>\n",
       "      <td>46718394</td>\n",
       "      <td>Shared room</td>\n",
       "      <td>NaN</td>\n",
       "      <td>Amsterdam</td>\n",
       "      <td>NaN</td>\n",
       "      <td>Centrum West</td>\n",
       "      <td>45</td>\n",
       "      <td>4.5</td>\n",
       "      <td>4</td>\n",
       "      <td>1.0</td>\n",
       "      <td>NaN</td>\n",
       "      <td>126.0</td>\n",
       "      <td>NaN</td>\n",
       "      <td>Sunny and Cozy Living room in quite neighbours</td>\n",
       "      <td>2017-07-23 13:06:23.607187</td>\n",
       "      <td>52.378518</td>\n",
       "      <td>4.896120</td>\n",
       "      <td>0101000020E6100000842A357BA095134042791F477330...</td>\n",
       "    </tr>\n",
       "    <tr>\n",
       "      <th>2</th>\n",
       "      <td>14011697</td>\n",
       "      <td>1476</td>\n",
       "      <td>10346595</td>\n",
       "      <td>Shared room</td>\n",
       "      <td>NaN</td>\n",
       "      <td>Amsterdam</td>\n",
       "      <td>NaN</td>\n",
       "      <td>Watergraafsmeer</td>\n",
       "      <td>1</td>\n",
       "      <td>0.0</td>\n",
       "      <td>3</td>\n",
       "      <td>1.0</td>\n",
       "      <td>NaN</td>\n",
       "      <td>132.0</td>\n",
       "      <td>NaN</td>\n",
       "      <td>Amsterdam</td>\n",
       "      <td>2017-07-23 13:06:23.603546</td>\n",
       "      <td>52.338811</td>\n",
       "      <td>4.943592</td>\n",
       "      <td>0101000020E6100000A51133FB3CC613403543AA285E2B...</td>\n",
       "    </tr>\n",
       "    <tr>\n",
       "      <th>3</th>\n",
       "      <td>6137978</td>\n",
       "      <td>1476</td>\n",
       "      <td>8685430</td>\n",
       "      <td>Shared room</td>\n",
       "      <td>NaN</td>\n",
       "      <td>Amsterdam</td>\n",
       "      <td>NaN</td>\n",
       "      <td>Centrum West</td>\n",
       "      <td>7</td>\n",
       "      <td>5.0</td>\n",
       "      <td>4</td>\n",
       "      <td>1.0</td>\n",
       "      <td>NaN</td>\n",
       "      <td>121.0</td>\n",
       "      <td>NaN</td>\n",
       "      <td>Canal boat RIDE in Amsterdam</td>\n",
       "      <td>2017-07-23 13:06:22.689787</td>\n",
       "      <td>52.376319</td>\n",
       "      <td>4.890028</td>\n",
       "      <td>0101000020E6100000DF180280638F134085EE92382B30...</td>\n",
       "    </tr>\n",
       "    <tr>\n",
       "      <th>4</th>\n",
       "      <td>18630616</td>\n",
       "      <td>1476</td>\n",
       "      <td>70191803</td>\n",
       "      <td>Shared room</td>\n",
       "      <td>NaN</td>\n",
       "      <td>Amsterdam</td>\n",
       "      <td>NaN</td>\n",
       "      <td>De Baarsjes / Oud West</td>\n",
       "      <td>1</td>\n",
       "      <td>0.0</td>\n",
       "      <td>2</td>\n",
       "      <td>1.0</td>\n",
       "      <td>NaN</td>\n",
       "      <td>93.0</td>\n",
       "      <td>NaN</td>\n",
       "      <td>One room for rent in a three room appartment</td>\n",
       "      <td>2017-07-23 13:06:19.681469</td>\n",
       "      <td>52.370384</td>\n",
       "      <td>4.852873</td>\n",
       "      <td>0101000020E6100000CD902A8A57691340187B2FBE682F...</td>\n",
       "    </tr>\n",
       "  </tbody>\n",
       "</table>\n",
       "</div>"
      ],
      "text/plain": [
       "    room_id  survey_id   host_id    room_type  country       city  borough  \\\n",
       "0  10176931       1476  49180562  Shared room      NaN  Amsterdam      NaN   \n",
       "1   8935871       1476  46718394  Shared room      NaN  Amsterdam      NaN   \n",
       "2  14011697       1476  10346595  Shared room      NaN  Amsterdam      NaN   \n",
       "3   6137978       1476   8685430  Shared room      NaN  Amsterdam      NaN   \n",
       "4  18630616       1476  70191803  Shared room      NaN  Amsterdam      NaN   \n",
       "\n",
       "              neighborhood  reviews  overall_satisfaction  accommodates  \\\n",
       "0  De Pijp / Rivierenbuurt        7                   4.5             2   \n",
       "1             Centrum West       45                   4.5             4   \n",
       "2          Watergraafsmeer        1                   0.0             3   \n",
       "3             Centrum West        7                   5.0             4   \n",
       "4   De Baarsjes / Oud West        1                   0.0             2   \n",
       "\n",
       "   bedrooms  bathrooms  price  minstay  \\\n",
       "0       1.0        NaN  156.0      NaN   \n",
       "1       1.0        NaN  126.0      NaN   \n",
       "2       1.0        NaN  132.0      NaN   \n",
       "3       1.0        NaN  121.0      NaN   \n",
       "4       1.0        NaN   93.0      NaN   \n",
       "\n",
       "                                             name               last_modified  \\\n",
       "0        Red Light/ Canal view apartment (Shared)  2017-07-23 13:06:27.391699   \n",
       "1  Sunny and Cozy Living room in quite neighbours  2017-07-23 13:06:23.607187   \n",
       "2                                       Amsterdam  2017-07-23 13:06:23.603546   \n",
       "3                    Canal boat RIDE in Amsterdam  2017-07-23 13:06:22.689787   \n",
       "4    One room for rent in a three room appartment  2017-07-23 13:06:19.681469   \n",
       "\n",
       "    latitude  longitude                                           location  \n",
       "0  52.356209   4.887491  0101000020E610000033FAD170CA8C13403BC5AA41982D...  \n",
       "1  52.378518   4.896120  0101000020E6100000842A357BA095134042791F477330...  \n",
       "2  52.338811   4.943592  0101000020E6100000A51133FB3CC613403543AA285E2B...  \n",
       "3  52.376319   4.890028  0101000020E6100000DF180280638F134085EE92382B30...  \n",
       "4  52.370384   4.852873  0101000020E6100000CD902A8A57691340187B2FBE682F...  "
      ]
     },
     "execution_count": 4,
     "metadata": {},
     "output_type": "execute_result"
    }
   ],
   "source": [
    "airbnb.head()"
   ]
  },
  {
   "cell_type": "code",
   "execution_count": 5,
   "metadata": {},
   "outputs": [
    {
     "data": {
      "text/plain": [
       "Entire home/apt    14978\n",
       "Private room        3682\n",
       "Shared room           63\n",
       "Name: room_type, dtype: int64"
      ]
     },
     "execution_count": 5,
     "metadata": {},
     "output_type": "execute_result"
    }
   ],
   "source": [
    "airbnb.room_type.value_counts()"
   ]
  },
  {
   "cell_type": "code",
   "execution_count": 6,
   "metadata": {},
   "outputs": [],
   "source": [
    "#Dropping Shared rooms because of their low volume\n",
    "airbnb = airbnb[airbnb.room_type != 'Shared room']"
   ]
  },
  {
   "cell_type": "code",
   "execution_count": 7,
   "metadata": {},
   "outputs": [
    {
     "data": {
      "text/plain": [
       "Entire home/apt    14978\n",
       "Private room        3682\n",
       "Name: room_type, dtype: int64"
      ]
     },
     "execution_count": 7,
     "metadata": {},
     "output_type": "execute_result"
    }
   ],
   "source": [
    "# Shared Room is dropped\n",
    "airbnb.room_type.value_counts()"
   ]
  },
  {
   "cell_type": "code",
   "execution_count": 8,
   "metadata": {},
   "outputs": [
    {
     "data": {
      "text/plain": [
       "De Baarsjes / Oud West                    3280\n",
       "De Pijp / Rivierenbuurt                   2371\n",
       "Centrum West                              2217\n",
       "Centrum Oost                              1724\n",
       "Westerpark                                1424\n",
       "Noord-West / Noord-Midden                 1416\n",
       "Oud Oost                                  1167\n",
       "Bos en Lommer                              985\n",
       "Oostelijk Havengebied / Indische Buurt     916\n",
       "Watergraafsmeer                            515\n",
       "Oud Noord                                  492\n",
       "Ijburg / Eiland Zeeburg                    378\n",
       "Slotervaart                                346\n",
       "Buitenveldert / Zuidas                     248\n",
       "Noord West                                 241\n",
       "Noord Oost                                 221\n",
       "Geuzenveld / Slotermeer                    192\n",
       "Osdorp                                     161\n",
       "De Aker / Nieuw Sloten                     114\n",
       "Bijlmer Centrum                             98\n",
       "Bijlmer Oost                                97\n",
       "Gaasperdam / Driemond                       42\n",
       "Westpoort                                   15\n",
       "Name: neighborhood, dtype: int64"
      ]
     },
     "execution_count": 8,
     "metadata": {},
     "output_type": "execute_result"
    }
   ],
   "source": [
    "# It shows where the most popular neighborhood also it is saying near which neighborhood most of the rooms are situated\n",
    "# We can do analysis like the most preferred neighborhood or near which neighborhood most of the visitor coming\n",
    "# or whether having a particular type of neighborhood helps you get better rent or reviews or rating etc.\n",
    "airbnb.neighborhood.value_counts()"
   ]
  },
  {
   "cell_type": "code",
   "execution_count": 9,
   "metadata": {},
   "outputs": [
    {
     "data": {
      "text/plain": [
       "0      2975\n",
       "1      1500\n",
       "2      1238\n",
       "3      1100\n",
       "4       924\n",
       "       ... \n",
       "166       1\n",
       "405       1\n",
       "309       1\n",
       "277       1\n",
       "463       1\n",
       "Name: reviews, Length: 283, dtype: int64"
      ]
     },
     "execution_count": 9,
     "metadata": {},
     "output_type": "execute_result"
    }
   ],
   "source": [
    "airbnb.reviews.value_counts()"
   ]
  },
  {
   "cell_type": "code",
   "execution_count": 10,
   "metadata": {},
   "outputs": [
    {
     "data": {
      "text/plain": [
       "5.0    7697\n",
       "0.0    5721\n",
       "4.5    4543\n",
       "4.0     573\n",
       "3.5     105\n",
       "3.0      19\n",
       "2.5       1\n",
       "1.0       1\n",
       "Name: overall_satisfaction, dtype: int64"
      ]
     },
     "execution_count": 10,
     "metadata": {},
     "output_type": "execute_result"
    }
   ],
   "source": [
    "airbnb.overall_satisfaction.value_counts()"
   ]
  },
  {
   "cell_type": "code",
   "execution_count": 11,
   "metadata": {},
   "outputs": [],
   "source": [
    "#Finding those properties where overall_satisfaction is zero and exploring them"
   ]
  },
  {
   "cell_type": "code",
   "execution_count": 12,
   "metadata": {},
   "outputs": [],
   "source": [
    "airbnb_0_satisfaction = airbnb[airbnb.overall_satisfaction == 0]"
   ]
  },
  {
   "cell_type": "code",
   "execution_count": 13,
   "metadata": {},
   "outputs": [
    {
     "data": {
      "text/html": [
       "<div>\n",
       "<style scoped>\n",
       "    .dataframe tbody tr th:only-of-type {\n",
       "        vertical-align: middle;\n",
       "    }\n",
       "\n",
       "    .dataframe tbody tr th {\n",
       "        vertical-align: top;\n",
       "    }\n",
       "\n",
       "    .dataframe thead th {\n",
       "        text-align: right;\n",
       "    }\n",
       "</style>\n",
       "<table border=\"1\" class=\"dataframe\">\n",
       "  <thead>\n",
       "    <tr style=\"text-align: right;\">\n",
       "      <th></th>\n",
       "      <th>room_id</th>\n",
       "      <th>survey_id</th>\n",
       "      <th>host_id</th>\n",
       "      <th>country</th>\n",
       "      <th>borough</th>\n",
       "      <th>reviews</th>\n",
       "      <th>overall_satisfaction</th>\n",
       "      <th>accommodates</th>\n",
       "      <th>bedrooms</th>\n",
       "      <th>bathrooms</th>\n",
       "      <th>price</th>\n",
       "      <th>minstay</th>\n",
       "      <th>latitude</th>\n",
       "      <th>longitude</th>\n",
       "    </tr>\n",
       "  </thead>\n",
       "  <tbody>\n",
       "    <tr>\n",
       "      <th>count</th>\n",
       "      <td>5.721000e+03</td>\n",
       "      <td>5721.0</td>\n",
       "      <td>5.721000e+03</td>\n",
       "      <td>0.0</td>\n",
       "      <td>0.0</td>\n",
       "      <td>5721.000000</td>\n",
       "      <td>5721.0</td>\n",
       "      <td>5721.000000</td>\n",
       "      <td>5721.000000</td>\n",
       "      <td>0.0</td>\n",
       "      <td>5721.000000</td>\n",
       "      <td>0.0</td>\n",
       "      <td>5721.000000</td>\n",
       "      <td>5721.000000</td>\n",
       "    </tr>\n",
       "    <tr>\n",
       "      <th>mean</th>\n",
       "      <td>1.472219e+07</td>\n",
       "      <td>1476.0</td>\n",
       "      <td>4.674155e+07</td>\n",
       "      <td>NaN</td>\n",
       "      <td>NaN</td>\n",
       "      <td>0.700926</td>\n",
       "      <td>0.0</td>\n",
       "      <td>3.024821</td>\n",
       "      <td>1.554623</td>\n",
       "      <td>NaN</td>\n",
       "      <td>175.620696</td>\n",
       "      <td>NaN</td>\n",
       "      <td>52.364361</td>\n",
       "      <td>4.889534</td>\n",
       "    </tr>\n",
       "    <tr>\n",
       "      <th>std</th>\n",
       "      <td>5.209774e+06</td>\n",
       "      <td>0.0</td>\n",
       "      <td>4.424869e+07</td>\n",
       "      <td>NaN</td>\n",
       "      <td>NaN</td>\n",
       "      <td>0.814133</td>\n",
       "      <td>0.0</td>\n",
       "      <td>1.352056</td>\n",
       "      <td>0.949345</td>\n",
       "      <td>NaN</td>\n",
       "      <td>140.020220</td>\n",
       "      <td>NaN</td>\n",
       "      <td>0.015795</td>\n",
       "      <td>0.036742</td>\n",
       "    </tr>\n",
       "    <tr>\n",
       "      <th>min</th>\n",
       "      <td>2.542800e+04</td>\n",
       "      <td>1476.0</td>\n",
       "      <td>2.234000e+03</td>\n",
       "      <td>NaN</td>\n",
       "      <td>NaN</td>\n",
       "      <td>0.000000</td>\n",
       "      <td>0.0</td>\n",
       "      <td>1.000000</td>\n",
       "      <td>0.000000</td>\n",
       "      <td>NaN</td>\n",
       "      <td>22.000000</td>\n",
       "      <td>NaN</td>\n",
       "      <td>52.296200</td>\n",
       "      <td>4.771083</td>\n",
       "    </tr>\n",
       "    <tr>\n",
       "      <th>25%</th>\n",
       "      <td>1.150164e+07</td>\n",
       "      <td>1476.0</td>\n",
       "      <td>9.749992e+06</td>\n",
       "      <td>NaN</td>\n",
       "      <td>NaN</td>\n",
       "      <td>0.000000</td>\n",
       "      <td>0.0</td>\n",
       "      <td>2.000000</td>\n",
       "      <td>1.000000</td>\n",
       "      <td>NaN</td>\n",
       "      <td>114.000000</td>\n",
       "      <td>NaN</td>\n",
       "      <td>52.353951</td>\n",
       "      <td>4.862918</td>\n",
       "    </tr>\n",
       "    <tr>\n",
       "      <th>50%</th>\n",
       "      <td>1.643578e+07</td>\n",
       "      <td>1476.0</td>\n",
       "      <td>2.962380e+07</td>\n",
       "      <td>NaN</td>\n",
       "      <td>NaN</td>\n",
       "      <td>0.000000</td>\n",
       "      <td>0.0</td>\n",
       "      <td>2.000000</td>\n",
       "      <td>1.000000</td>\n",
       "      <td>NaN</td>\n",
       "      <td>150.000000</td>\n",
       "      <td>NaN</td>\n",
       "      <td>52.363567</td>\n",
       "      <td>4.886634</td>\n",
       "    </tr>\n",
       "    <tr>\n",
       "      <th>75%</th>\n",
       "      <td>1.917347e+07</td>\n",
       "      <td>1476.0</td>\n",
       "      <td>7.652614e+07</td>\n",
       "      <td>NaN</td>\n",
       "      <td>NaN</td>\n",
       "      <td>1.000000</td>\n",
       "      <td>0.0</td>\n",
       "      <td>4.000000</td>\n",
       "      <td>2.000000</td>\n",
       "      <td>NaN</td>\n",
       "      <td>209.000000</td>\n",
       "      <td>NaN</td>\n",
       "      <td>52.374183</td>\n",
       "      <td>4.909861</td>\n",
       "    </tr>\n",
       "    <tr>\n",
       "      <th>max</th>\n",
       "      <td>2.000373e+07</td>\n",
       "      <td>1476.0</td>\n",
       "      <td>1.418319e+08</td>\n",
       "      <td>NaN</td>\n",
       "      <td>NaN</td>\n",
       "      <td>5.000000</td>\n",
       "      <td>0.0</td>\n",
       "      <td>16.000000</td>\n",
       "      <td>10.000000</td>\n",
       "      <td>NaN</td>\n",
       "      <td>6000.000000</td>\n",
       "      <td>NaN</td>\n",
       "      <td>52.424980</td>\n",
       "      <td>5.013075</td>\n",
       "    </tr>\n",
       "  </tbody>\n",
       "</table>\n",
       "</div>"
      ],
      "text/plain": [
       "            room_id  survey_id       host_id  country  borough      reviews  \\\n",
       "count  5.721000e+03     5721.0  5.721000e+03      0.0      0.0  5721.000000   \n",
       "mean   1.472219e+07     1476.0  4.674155e+07      NaN      NaN     0.700926   \n",
       "std    5.209774e+06        0.0  4.424869e+07      NaN      NaN     0.814133   \n",
       "min    2.542800e+04     1476.0  2.234000e+03      NaN      NaN     0.000000   \n",
       "25%    1.150164e+07     1476.0  9.749992e+06      NaN      NaN     0.000000   \n",
       "50%    1.643578e+07     1476.0  2.962380e+07      NaN      NaN     0.000000   \n",
       "75%    1.917347e+07     1476.0  7.652614e+07      NaN      NaN     1.000000   \n",
       "max    2.000373e+07     1476.0  1.418319e+08      NaN      NaN     5.000000   \n",
       "\n",
       "       overall_satisfaction  accommodates     bedrooms  bathrooms  \\\n",
       "count                5721.0   5721.000000  5721.000000        0.0   \n",
       "mean                    0.0      3.024821     1.554623        NaN   \n",
       "std                     0.0      1.352056     0.949345        NaN   \n",
       "min                     0.0      1.000000     0.000000        NaN   \n",
       "25%                     0.0      2.000000     1.000000        NaN   \n",
       "50%                     0.0      2.000000     1.000000        NaN   \n",
       "75%                     0.0      4.000000     2.000000        NaN   \n",
       "max                     0.0     16.000000    10.000000        NaN   \n",
       "\n",
       "             price  minstay     latitude    longitude  \n",
       "count  5721.000000      0.0  5721.000000  5721.000000  \n",
       "mean    175.620696      NaN    52.364361     4.889534  \n",
       "std     140.020220      NaN     0.015795     0.036742  \n",
       "min      22.000000      NaN    52.296200     4.771083  \n",
       "25%     114.000000      NaN    52.353951     4.862918  \n",
       "50%     150.000000      NaN    52.363567     4.886634  \n",
       "75%     209.000000      NaN    52.374183     4.909861  \n",
       "max    6000.000000      NaN    52.424980     5.013075  "
      ]
     },
     "execution_count": 13,
     "metadata": {},
     "output_type": "execute_result"
    }
   ],
   "source": [
    "airbnb_0_satisfaction.describe()"
   ]
  },
  {
   "cell_type": "code",
   "execution_count": 14,
   "metadata": {},
   "outputs": [
    {
     "data": {
      "text/plain": [
       "5.0    621\n",
       "0.0    483\n",
       "4.5    411\n",
       "4.0     56\n",
       "3.5      8\n",
       "3.0      4\n",
       "Name: overall_satisfaction, dtype: int64"
      ]
     },
     "execution_count": 14,
     "metadata": {},
     "output_type": "execute_result"
    }
   ],
   "source": [
    "airbnb[airbnb.accommodates == 3].overall_satisfaction.value_counts()"
   ]
  },
  {
   "cell_type": "code",
   "execution_count": 15,
   "metadata": {},
   "outputs": [
    {
     "data": {
      "text/plain": [
       "5.0    1787\n",
       "0.0    1487\n",
       "4.5    1033\n",
       "4.0     127\n",
       "3.5      16\n",
       "3.0       6\n",
       "Name: overall_satisfaction, dtype: int64"
      ]
     },
     "execution_count": 15,
     "metadata": {},
     "output_type": "execute_result"
    }
   ],
   "source": [
    "airbnb[airbnb.bedrooms ==2].overall_satisfaction.value_counts()"
   ]
  },
  {
   "cell_type": "code",
   "execution_count": 16,
   "metadata": {},
   "outputs": [
    {
     "data": {
      "text/plain": [
       "5.0    1634\n",
       "0.0    1169\n",
       "4.5     881\n",
       "4.0     104\n",
       "3.5      12\n",
       "3.0       4\n",
       "Name: overall_satisfaction, dtype: int64"
      ]
     },
     "execution_count": 16,
     "metadata": {},
     "output_type": "execute_result"
    }
   ],
   "source": [
    "# Rating based on the price range\n",
    "airbnb[(airbnb.price >= 150) & (airbnb.price <=180)].overall_satisfaction.value_counts()"
   ]
  },
  {
   "cell_type": "code",
   "execution_count": 17,
   "metadata": {},
   "outputs": [],
   "source": [
    "# Based on above exploration, inserting overall satisfaction value of 4 where it is missing\n",
    "airbnb_imputed_satisfaction = airbnb"
   ]
  },
  {
   "cell_type": "code",
   "execution_count": 18,
   "metadata": {},
   "outputs": [],
   "source": [
    "# Imputing the value 4 in overall satisfaction where the value is present as 0\n",
    "airbnb_imputed_satisfaction.overall_satisfaction = airbnb_imputed_satisfaction.overall_satisfaction.replace(0,4)"
   ]
  },
  {
   "cell_type": "code",
   "execution_count": 19,
   "metadata": {},
   "outputs": [
    {
     "data": {
      "text/plain": [
       "5.0    7697\n",
       "4.0    6294\n",
       "4.5    4543\n",
       "3.5     105\n",
       "3.0      19\n",
       "2.5       1\n",
       "1.0       1\n",
       "Name: overall_satisfaction, dtype: int64"
      ]
     },
     "execution_count": 19,
     "metadata": {},
     "output_type": "execute_result"
    }
   ],
   "source": [
    "airbnb_imputed_satisfaction.overall_satisfaction.value_counts()"
   ]
  },
  {
   "cell_type": "code",
   "execution_count": 20,
   "metadata": {},
   "outputs": [
    {
     "data": {
      "text/plain": [
       "5.0    7697\n",
       "4.0    6294\n",
       "4.5    4543\n",
       "3.5     105\n",
       "3.0      19\n",
       "2.5       1\n",
       "1.0       1\n",
       "Name: overall_satisfaction, dtype: int64"
      ]
     },
     "execution_count": 20,
     "metadata": {},
     "output_type": "execute_result"
    }
   ],
   "source": [
    "airbnb.overall_satisfaction.value_counts()"
   ]
  },
  {
   "cell_type": "code",
   "execution_count": 21,
   "metadata": {},
   "outputs": [
    {
     "data": {
      "text/plain": [
       "2     9996\n",
       "4     5563\n",
       "3     1583\n",
       "6      475\n",
       "5      470\n",
       "1      355\n",
       "8      105\n",
       "7       52\n",
       "16      18\n",
       "10      16\n",
       "12       9\n",
       "9        8\n",
       "14       6\n",
       "11       2\n",
       "17       1\n",
       "13       1\n",
       "Name: accommodates, dtype: int64"
      ]
     },
     "execution_count": 21,
     "metadata": {},
     "output_type": "execute_result"
    }
   ],
   "source": [
    "airbnb.accommodates.value_counts()"
   ]
  },
  {
   "cell_type": "code",
   "execution_count": 22,
   "metadata": {},
   "outputs": [
    {
     "data": {
      "text/plain": [
       "119.0     1023\n",
       "180.0      999\n",
       "144.0      886\n",
       "150.0      621\n",
       "132.0      587\n",
       "          ... \n",
       "1412.0       1\n",
       "392.0        1\n",
       "534.0        1\n",
       "451.0        1\n",
       "929.0        1\n",
       "Name: price, Length: 419, dtype: int64"
      ]
     },
     "execution_count": 22,
     "metadata": {},
     "output_type": "execute_result"
    }
   ],
   "source": [
    "airbnb.price.value_counts()"
   ]
  },
  {
   "cell_type": "code",
   "execution_count": 23,
   "metadata": {},
   "outputs": [],
   "source": [
    "import numpy as np"
   ]
  },
  {
   "cell_type": "code",
   "execution_count": 24,
   "metadata": {},
   "outputs": [
    {
     "data": {
      "text/plain": [
       "1.0     0.591533\n",
       "2.0     0.238800\n",
       "3.0     0.077385\n",
       "0.0     0.061844\n",
       "4.0     0.025348\n",
       "5.0     0.003323\n",
       "6.0     0.001018\n",
       "10.0    0.000268\n",
       "7.0     0.000214\n",
       "8.0     0.000161\n",
       "9.0     0.000107\n",
       "Name: bedrooms, dtype: float64"
      ]
     },
     "execution_count": 24,
     "metadata": {},
     "output_type": "execute_result"
    }
   ],
   "source": [
    "airbnb.bedrooms.value_counts()/airbnb.bedrooms.count()"
   ]
  },
  {
   "cell_type": "code",
   "execution_count": 25,
   "metadata": {},
   "outputs": [],
   "source": [
    "# Dropping values where bedrooms are equal to zero\n",
    "airbnb = airbnb[airbnb.bedrooms != 0]"
   ]
  },
  {
   "cell_type": "code",
   "execution_count": 26,
   "metadata": {},
   "outputs": [
    {
     "data": {
      "text/plain": [
       "1.0     11038\n",
       "2.0      4456\n",
       "3.0      1444\n",
       "4.0       473\n",
       "5.0        62\n",
       "6.0        19\n",
       "10.0        5\n",
       "7.0         4\n",
       "8.0         3\n",
       "9.0         2\n",
       "Name: bedrooms, dtype: int64"
      ]
     },
     "execution_count": 26,
     "metadata": {},
     "output_type": "execute_result"
    }
   ],
   "source": [
    "#Values without zero bedrooms\n",
    "airbnb.bedrooms.value_counts()"
   ]
  },
  {
   "cell_type": "code",
   "execution_count": 27,
   "metadata": {},
   "outputs": [
    {
     "data": {
      "text/plain": [
       "1.0     11038\n",
       "2.0      4456\n",
       "3.0      1444\n",
       "4.0       473\n",
       "5.0        62\n",
       "6.0        19\n",
       "10.0        5\n",
       "7.0         4\n",
       "8.0         3\n",
       "9.0         2\n",
       "Name: bedrooms, dtype: int64"
      ]
     },
     "execution_count": 27,
     "metadata": {},
     "output_type": "execute_result"
    }
   ],
   "source": [
    "#values with zero bedrooms\n",
    "airbnb.bedrooms.value_counts()"
   ]
  },
  {
   "cell_type": "code",
   "execution_count": 28,
   "metadata": {},
   "outputs": [
    {
     "name": "stdout",
     "output_type": "stream",
     "text": [
      "<class 'pandas.core.frame.DataFrame'>\n",
      "Int64Index: 17506 entries, 33 to 18722\n",
      "Data columns (total 20 columns):\n",
      " #   Column                Non-Null Count  Dtype  \n",
      "---  ------                --------------  -----  \n",
      " 0   room_id               17506 non-null  int64  \n",
      " 1   survey_id             17506 non-null  int64  \n",
      " 2   host_id               17506 non-null  int64  \n",
      " 3   room_type             17506 non-null  object \n",
      " 4   country               0 non-null      float64\n",
      " 5   city                  17506 non-null  object \n",
      " 6   borough               0 non-null      float64\n",
      " 7   neighborhood          17506 non-null  object \n",
      " 8   reviews               17506 non-null  int64  \n",
      " 9   overall_satisfaction  17506 non-null  float64\n",
      " 10  accommodates          17506 non-null  int64  \n",
      " 11  bedrooms              17506 non-null  float64\n",
      " 12  bathrooms             0 non-null      float64\n",
      " 13  price                 17506 non-null  float64\n",
      " 14  minstay               0 non-null      float64\n",
      " 15  name                  17460 non-null  object \n",
      " 16  last_modified         17506 non-null  object \n",
      " 17  latitude              17506 non-null  float64\n",
      " 18  longitude             17506 non-null  float64\n",
      " 19  location              17506 non-null  object \n",
      "dtypes: float64(9), int64(5), object(6)\n",
      "memory usage: 2.8+ MB\n"
     ]
    }
   ],
   "source": [
    "airbnb.info()"
   ]
  },
  {
   "cell_type": "code",
   "execution_count": 29,
   "metadata": {},
   "outputs": [
    {
     "data": {
      "text/html": [
       "<div>\n",
       "<style scoped>\n",
       "    .dataframe tbody tr th:only-of-type {\n",
       "        vertical-align: middle;\n",
       "    }\n",
       "\n",
       "    .dataframe tbody tr th {\n",
       "        vertical-align: top;\n",
       "    }\n",
       "\n",
       "    .dataframe thead th {\n",
       "        text-align: right;\n",
       "    }\n",
       "</style>\n",
       "<table border=\"1\" class=\"dataframe\">\n",
       "  <thead>\n",
       "    <tr style=\"text-align: right;\">\n",
       "      <th></th>\n",
       "      <th>room_id</th>\n",
       "      <th>survey_id</th>\n",
       "      <th>host_id</th>\n",
       "      <th>country</th>\n",
       "      <th>borough</th>\n",
       "      <th>reviews</th>\n",
       "      <th>overall_satisfaction</th>\n",
       "      <th>accommodates</th>\n",
       "      <th>bedrooms</th>\n",
       "      <th>bathrooms</th>\n",
       "      <th>price</th>\n",
       "      <th>minstay</th>\n",
       "      <th>latitude</th>\n",
       "      <th>longitude</th>\n",
       "    </tr>\n",
       "  </thead>\n",
       "  <tbody>\n",
       "    <tr>\n",
       "      <th>count</th>\n",
       "      <td>1.750600e+04</td>\n",
       "      <td>17506.0</td>\n",
       "      <td>1.750600e+04</td>\n",
       "      <td>0.0</td>\n",
       "      <td>0.0</td>\n",
       "      <td>17506.000000</td>\n",
       "      <td>17506.000000</td>\n",
       "      <td>17506.000000</td>\n",
       "      <td>17506.000000</td>\n",
       "      <td>0.0</td>\n",
       "      <td>17506.000000</td>\n",
       "      <td>0.0</td>\n",
       "      <td>17506.000000</td>\n",
       "      <td>17506.000000</td>\n",
       "    </tr>\n",
       "    <tr>\n",
       "      <th>mean</th>\n",
       "      <td>1.108287e+07</td>\n",
       "      <td>1476.0</td>\n",
       "      <td>3.509582e+07</td>\n",
       "      <td>NaN</td>\n",
       "      <td>NaN</td>\n",
       "      <td>16.368959</td>\n",
       "      <td>4.531932</td>\n",
       "      <td>2.960642</td>\n",
       "      <td>1.526220</td>\n",
       "      <td>NaN</td>\n",
       "      <td>169.137267</td>\n",
       "      <td>NaN</td>\n",
       "      <td>52.365207</td>\n",
       "      <td>4.888416</td>\n",
       "    </tr>\n",
       "    <tr>\n",
       "      <th>std</th>\n",
       "      <td>6.080450e+06</td>\n",
       "      <td>0.0</td>\n",
       "      <td>3.710345e+07</td>\n",
       "      <td>NaN</td>\n",
       "      <td>NaN</td>\n",
       "      <td>32.796906</td>\n",
       "      <td>0.441955</td>\n",
       "      <td>1.333545</td>\n",
       "      <td>0.825627</td>\n",
       "      <td>NaN</td>\n",
       "      <td>111.009236</td>\n",
       "      <td>NaN</td>\n",
       "      <td>0.015112</td>\n",
       "      <td>0.034722</td>\n",
       "    </tr>\n",
       "    <tr>\n",
       "      <th>min</th>\n",
       "      <td>2.818000e+03</td>\n",
       "      <td>1476.0</td>\n",
       "      <td>2.234000e+03</td>\n",
       "      <td>NaN</td>\n",
       "      <td>NaN</td>\n",
       "      <td>0.000000</td>\n",
       "      <td>1.000000</td>\n",
       "      <td>1.000000</td>\n",
       "      <td>1.000000</td>\n",
       "      <td>NaN</td>\n",
       "      <td>12.000000</td>\n",
       "      <td>NaN</td>\n",
       "      <td>52.296200</td>\n",
       "      <td>4.763264</td>\n",
       "    </tr>\n",
       "    <tr>\n",
       "      <th>25%</th>\n",
       "      <td>5.923722e+06</td>\n",
       "      <td>1476.0</td>\n",
       "      <td>7.004309e+06</td>\n",
       "      <td>NaN</td>\n",
       "      <td>NaN</td>\n",
       "      <td>2.000000</td>\n",
       "      <td>4.000000</td>\n",
       "      <td>2.000000</td>\n",
       "      <td>1.000000</td>\n",
       "      <td>NaN</td>\n",
       "      <td>113.000000</td>\n",
       "      <td>NaN</td>\n",
       "      <td>52.355177</td>\n",
       "      <td>4.863899</td>\n",
       "    </tr>\n",
       "    <tr>\n",
       "      <th>50%</th>\n",
       "      <td>1.210997e+07</td>\n",
       "      <td>1476.0</td>\n",
       "      <td>1.956281e+07</td>\n",
       "      <td>NaN</td>\n",
       "      <td>NaN</td>\n",
       "      <td>6.000000</td>\n",
       "      <td>4.500000</td>\n",
       "      <td>2.000000</td>\n",
       "      <td>1.000000</td>\n",
       "      <td>NaN</td>\n",
       "      <td>144.000000</td>\n",
       "      <td>NaN</td>\n",
       "      <td>52.364507</td>\n",
       "      <td>4.885528</td>\n",
       "    </tr>\n",
       "    <tr>\n",
       "      <th>75%</th>\n",
       "      <td>1.643984e+07</td>\n",
       "      <td>1476.0</td>\n",
       "      <td>5.089235e+07</td>\n",
       "      <td>NaN</td>\n",
       "      <td>NaN</td>\n",
       "      <td>17.000000</td>\n",
       "      <td>5.000000</td>\n",
       "      <td>4.000000</td>\n",
       "      <td>2.000000</td>\n",
       "      <td>NaN</td>\n",
       "      <td>196.000000</td>\n",
       "      <td>NaN</td>\n",
       "      <td>52.374604</td>\n",
       "      <td>4.907448</td>\n",
       "    </tr>\n",
       "    <tr>\n",
       "      <th>max</th>\n",
       "      <td>2.000373e+07</td>\n",
       "      <td>1476.0</td>\n",
       "      <td>1.418319e+08</td>\n",
       "      <td>NaN</td>\n",
       "      <td>NaN</td>\n",
       "      <td>532.000000</td>\n",
       "      <td>5.000000</td>\n",
       "      <td>17.000000</td>\n",
       "      <td>10.000000</td>\n",
       "      <td>NaN</td>\n",
       "      <td>6000.000000</td>\n",
       "      <td>NaN</td>\n",
       "      <td>52.424980</td>\n",
       "      <td>5.027689</td>\n",
       "    </tr>\n",
       "  </tbody>\n",
       "</table>\n",
       "</div>"
      ],
      "text/plain": [
       "            room_id  survey_id       host_id  country  borough       reviews  \\\n",
       "count  1.750600e+04    17506.0  1.750600e+04      0.0      0.0  17506.000000   \n",
       "mean   1.108287e+07     1476.0  3.509582e+07      NaN      NaN     16.368959   \n",
       "std    6.080450e+06        0.0  3.710345e+07      NaN      NaN     32.796906   \n",
       "min    2.818000e+03     1476.0  2.234000e+03      NaN      NaN      0.000000   \n",
       "25%    5.923722e+06     1476.0  7.004309e+06      NaN      NaN      2.000000   \n",
       "50%    1.210997e+07     1476.0  1.956281e+07      NaN      NaN      6.000000   \n",
       "75%    1.643984e+07     1476.0  5.089235e+07      NaN      NaN     17.000000   \n",
       "max    2.000373e+07     1476.0  1.418319e+08      NaN      NaN    532.000000   \n",
       "\n",
       "       overall_satisfaction  accommodates      bedrooms  bathrooms  \\\n",
       "count          17506.000000  17506.000000  17506.000000        0.0   \n",
       "mean               4.531932      2.960642      1.526220        NaN   \n",
       "std                0.441955      1.333545      0.825627        NaN   \n",
       "min                1.000000      1.000000      1.000000        NaN   \n",
       "25%                4.000000      2.000000      1.000000        NaN   \n",
       "50%                4.500000      2.000000      1.000000        NaN   \n",
       "75%                5.000000      4.000000      2.000000        NaN   \n",
       "max                5.000000     17.000000     10.000000        NaN   \n",
       "\n",
       "              price  minstay      latitude     longitude  \n",
       "count  17506.000000      0.0  17506.000000  17506.000000  \n",
       "mean     169.137267      NaN     52.365207      4.888416  \n",
       "std      111.009236      NaN      0.015112      0.034722  \n",
       "min       12.000000      NaN     52.296200      4.763264  \n",
       "25%      113.000000      NaN     52.355177      4.863899  \n",
       "50%      144.000000      NaN     52.364507      4.885528  \n",
       "75%      196.000000      NaN     52.374604      4.907448  \n",
       "max     6000.000000      NaN     52.424980      5.027689  "
      ]
     },
     "execution_count": 29,
     "metadata": {},
     "output_type": "execute_result"
    }
   ],
   "source": [
    "airbnb.describe()"
   ]
  },
  {
   "cell_type": "markdown",
   "metadata": {},
   "source": [
    "# Data Visualization"
   ]
  },
  {
   "cell_type": "code",
   "execution_count": 30,
   "metadata": {},
   "outputs": [
    {
     "data": {
      "text/html": [
       "<div>\n",
       "<style scoped>\n",
       "    .dataframe tbody tr th:only-of-type {\n",
       "        vertical-align: middle;\n",
       "    }\n",
       "\n",
       "    .dataframe tbody tr th {\n",
       "        vertical-align: top;\n",
       "    }\n",
       "\n",
       "    .dataframe thead th {\n",
       "        text-align: right;\n",
       "    }\n",
       "</style>\n",
       "<table border=\"1\" class=\"dataframe\">\n",
       "  <thead>\n",
       "    <tr style=\"text-align: right;\">\n",
       "      <th></th>\n",
       "      <th>room_id</th>\n",
       "      <th>survey_id</th>\n",
       "      <th>host_id</th>\n",
       "      <th>room_type</th>\n",
       "      <th>country</th>\n",
       "      <th>city</th>\n",
       "      <th>borough</th>\n",
       "      <th>neighborhood</th>\n",
       "      <th>reviews</th>\n",
       "      <th>overall_satisfaction</th>\n",
       "      <th>accommodates</th>\n",
       "      <th>bedrooms</th>\n",
       "      <th>bathrooms</th>\n",
       "      <th>price</th>\n",
       "      <th>minstay</th>\n",
       "      <th>name</th>\n",
       "      <th>last_modified</th>\n",
       "      <th>latitude</th>\n",
       "      <th>longitude</th>\n",
       "      <th>location</th>\n",
       "    </tr>\n",
       "  </thead>\n",
       "  <tbody>\n",
       "    <tr>\n",
       "      <th>33</th>\n",
       "      <td>10201214</td>\n",
       "      <td>1476</td>\n",
       "      <td>8497487</td>\n",
       "      <td>Entire home/apt</td>\n",
       "      <td>NaN</td>\n",
       "      <td>Amsterdam</td>\n",
       "      <td>NaN</td>\n",
       "      <td>Ijburg / Eiland Zeeburg</td>\n",
       "      <td>19</td>\n",
       "      <td>5.0</td>\n",
       "      <td>8</td>\n",
       "      <td>4.0</td>\n",
       "      <td>NaN</td>\n",
       "      <td>763.0</td>\n",
       "      <td>NaN</td>\n",
       "      <td>Beautiful Watervilla in Amsterdam</td>\n",
       "      <td>2017-07-23 13:02:10.468528</td>\n",
       "      <td>52.348254</td>\n",
       "      <td>5.001477</td>\n",
       "      <td>0101000020E6100000E7C8CA2F83011440C0594A96932C...</td>\n",
       "    </tr>\n",
       "    <tr>\n",
       "      <th>34</th>\n",
       "      <td>3119298</td>\n",
       "      <td>1476</td>\n",
       "      <td>15847782</td>\n",
       "      <td>Entire home/apt</td>\n",
       "      <td>NaN</td>\n",
       "      <td>Amsterdam</td>\n",
       "      <td>NaN</td>\n",
       "      <td>Westerpark</td>\n",
       "      <td>1</td>\n",
       "      <td>4.0</td>\n",
       "      <td>8</td>\n",
       "      <td>3.0</td>\n",
       "      <td>NaN</td>\n",
       "      <td>445.0</td>\n",
       "      <td>NaN</td>\n",
       "      <td>Modern 5-8 person apartment</td>\n",
       "      <td>2017-07-23 12:58:15.945759</td>\n",
       "      <td>52.377581</td>\n",
       "      <td>4.873119</td>\n",
       "      <td>0101000020E61000009D103AE8127E1340A54BFF925430...</td>\n",
       "    </tr>\n",
       "  </tbody>\n",
       "</table>\n",
       "</div>"
      ],
      "text/plain": [
       "     room_id  survey_id   host_id        room_type  country       city  \\\n",
       "33  10201214       1476   8497487  Entire home/apt      NaN  Amsterdam   \n",
       "34   3119298       1476  15847782  Entire home/apt      NaN  Amsterdam   \n",
       "\n",
       "    borough             neighborhood  reviews  overall_satisfaction  \\\n",
       "33      NaN  Ijburg / Eiland Zeeburg       19                   5.0   \n",
       "34      NaN               Westerpark        1                   4.0   \n",
       "\n",
       "    accommodates  bedrooms  bathrooms  price  minstay  \\\n",
       "33             8       4.0        NaN  763.0      NaN   \n",
       "34             8       3.0        NaN  445.0      NaN   \n",
       "\n",
       "                                 name               last_modified   latitude  \\\n",
       "33  Beautiful Watervilla in Amsterdam  2017-07-23 13:02:10.468528  52.348254   \n",
       "34        Modern 5-8 person apartment  2017-07-23 12:58:15.945759  52.377581   \n",
       "\n",
       "    longitude                                           location  \n",
       "33   5.001477  0101000020E6100000E7C8CA2F83011440C0594A96932C...  \n",
       "34   4.873119  0101000020E61000009D103AE8127E1340A54BFF925430...  "
      ]
     },
     "execution_count": 30,
     "metadata": {},
     "output_type": "execute_result"
    }
   ],
   "source": [
    "airbnb.head(2)"
   ]
  },
  {
   "cell_type": "code",
   "execution_count": 31,
   "metadata": {},
   "outputs": [
    {
     "data": {
      "text/plain": [
       "(array([7292., 3231., 1943., 1235.,  836.,  577.,  411.,  321.,  232.,\n",
       "         196.,  159.,  115.,   91.,   77.,   82.,   51.,   49.,   45.,\n",
       "          44.,   57.]),\n",
       " array([  0.,   5.,  10.,  15.,  20.,  25.,  30.,  35.,  40.,  45.,  50.,\n",
       "         55.,  60.,  65.,  70.,  75.,  80.,  85.,  90.,  95., 100.]),\n",
       " <BarContainer object of 20 artists>)"
      ]
     },
     "execution_count": 31,
     "metadata": {},
     "output_type": "execute_result"
    },
    {
     "data": {
      "image/png": "[encoded data removed]",
      "text/plain": [
       "<Figure size 432x288 with 1 Axes>"
      ]
     },
     "metadata": {
      "needs_background": "light"
     },
     "output_type": "display_data"
    }
   ],
   "source": [
    "#airbnb.reviews.plot(kind = 'hist')\n",
    "plt.hist(airbnb.reviews,bins=20,range=(0,100))"
   ]
  },
  {
   "cell_type": "code",
   "execution_count": 32,
   "metadata": {},
   "outputs": [
    {
     "data": {
      "text/plain": [
       "(array([1.870e+02, 2.858e+03, 5.970e+03, 4.259e+03, 2.002e+03, 7.720e+02,\n",
       "        6.360e+02, 3.180e+02, 1.560e+02, 1.530e+02, 6.200e+01, 3.800e+01,\n",
       "        1.000e+01, 1.600e+01, 2.000e+01, 1.200e+01, 6.000e+00, 1.000e+00,\n",
       "        5.000e+00, 3.000e+00]),\n",
       " array([   0.,   50.,  100.,  150.,  200.,  250.,  300.,  350.,  400.,\n",
       "         450.,  500.,  550.,  600.,  650.,  700.,  750.,  800.,  850.,\n",
       "         900.,  950., 1000.]),\n",
       " <BarContainer object of 20 artists>)"
      ]
     },
     "execution_count": 32,
     "metadata": {},
     "output_type": "execute_result"
    },
    {
     "data": {
      "image/png": "[encoded data removed]",
      "text/plain": [
       "<Figure size 432x288 with 1 Axes>"
      ]
     },
     "metadata": {
      "needs_background": "light"
     },
     "output_type": "display_data"
    }
   ],
   "source": [
    "plt.hist(airbnb.price,bins=20,range=(0,1000))"
   ]
  },
  {
   "cell_type": "code",
   "execution_count": 33,
   "metadata": {},
   "outputs": [
    {
     "data": {
      "text/plain": [
       "(array([3.250e+02, 9.105e+03, 1.489e+03, 5.437e+03, 4.640e+02, 4.710e+02,\n",
       "        5.200e+01, 1.050e+02, 8.000e+00, 1.500e+01, 2.000e+00, 8.000e+00,\n",
       "        0.000e+00, 6.000e+00, 0.000e+00, 1.900e+01]),\n",
       " array([ 1.,  2.,  3.,  4.,  5.,  6.,  7.,  8.,  9., 10., 11., 12., 13.,\n",
       "        14., 15., 16., 17.]),\n",
       " <BarContainer object of 16 artists>)"
      ]
     },
     "execution_count": 33,
     "metadata": {},
     "output_type": "execute_result"
    },
    {
     "data": {
      "image/png": "[encoded data removed]",
      "text/plain": [
       "<Figure size 432x288 with 1 Axes>"
      ]
     },
     "metadata": {
      "needs_background": "light"
     },
     "output_type": "display_data"
    }
   ],
   "source": [
    "plt.hist(airbnb.accommodates,bins=16)"
   ]
  },
  {
   "cell_type": "code",
   "execution_count": 34,
   "metadata": {},
   "outputs": [
    {
     "data": {
      "text/plain": [
       "(array([1.000e+00, 0.000e+00, 0.000e+00, 1.000e+00, 0.000e+00, 1.500e+01,\n",
       "        9.500e+01, 5.902e+03, 4.226e+03, 7.266e+03]),\n",
       " array([1. , 1.4, 1.8, 2.2, 2.6, 3. , 3.4, 3.8, 4.2, 4.6, 5. ]),\n",
       " <BarContainer object of 10 artists>)"
      ]
     },
     "execution_count": 34,
     "metadata": {},
     "output_type": "execute_result"
    },
    {
     "data": {
      "image/png": "[encoded data removed]",
      "text/plain": [
       "<Figure size 432x288 with 1 Axes>"
      ]
     },
     "metadata": {
      "needs_background": "light"
     },
     "output_type": "display_data"
    }
   ],
   "source": [
    "plt.hist(airbnb.overall_satisfaction)"
   ]
  },
  {
   "cell_type": "code",
   "execution_count": 35,
   "metadata": {},
   "outputs": [
    {
     "data": {
      "text/plain": [
       "(array([   6.,    0.,   43.,    0.,    0., 3291.,    0., 2489.,    0.,\n",
       "        4401.]),\n",
       " array([3. , 3.2, 3.4, 3.6, 3.8, 4. , 4.2, 4.4, 4.6, 4.8, 5. ]),\n",
       " <BarContainer object of 10 artists>)"
      ]
     },
     "execution_count": 35,
     "metadata": {},
     "output_type": "execute_result"
    },
    {
     "data": {
      "image/png": "[encoded data removed]",
      "text/plain": [
       "<Figure size 432x288 with 1 Axes>"
      ]
     },
     "metadata": {
      "needs_background": "light"
     },
     "output_type": "display_data"
    }
   ],
   "source": [
    "plt.hist(airbnb[(airbnb.price >= 100) & (airbnb.price <= 200)].overall_satisfaction)"
   ]
  },
  {
   "cell_type": "code",
   "execution_count": 36,
   "metadata": {},
   "outputs": [
    {
     "data": {
      "text/plain": [
       "(array([ 2.,  0.,  0., 78.,  0.,  0., 61.,  0.,  0., 46.]),\n",
       " array([3.5 , 3.65, 3.8 , 3.95, 4.1 , 4.25, 4.4 , 4.55, 4.7 , 4.85, 5.  ]),\n",
       " <BarContainer object of 10 artists>)"
      ]
     },
     "execution_count": 36,
     "metadata": {},
     "output_type": "execute_result"
    },
    {
     "data": {
      "image/png": "[encoded data removed]",
      "text/plain": [
       "<Figure size 432x288 with 1 Axes>"
      ]
     },
     "metadata": {
      "needs_background": "light"
     },
     "output_type": "display_data"
    }
   ],
   "source": [
    "plt.hist(airbnb[airbnb.price < 50].overall_satisfaction)"
   ]
  },
  {
   "cell_type": "code",
   "execution_count": 37,
   "metadata": {},
   "outputs": [
    {
     "data": {
      "text/plain": [
       "(array([1.000e+00, 0.000e+00, 4.000e+00, 0.000e+00, 1.700e+01, 0.000e+00,\n",
       "        1.550e+03, 0.000e+00, 7.850e+02, 1.874e+03]),\n",
       " array([2.5 , 2.75, 3.  , 3.25, 3.5 , 3.75, 4.  , 4.25, 4.5 , 4.75, 5.  ]),\n",
       " <BarContainer object of 10 artists>)"
      ]
     },
     "execution_count": 37,
     "metadata": {},
     "output_type": "execute_result"
    },
    {
     "data": {
      "image/png": "[encoded data removed]",
      "text/plain": [
       "<Figure size 432x288 with 1 Axes>"
      ]
     },
     "metadata": {
      "needs_background": "light"
     },
     "output_type": "display_data"
    }
   ],
   "source": [
    "plt.hist(airbnb[airbnb.price > 200].overall_satisfaction)"
   ]
  },
  {
   "cell_type": "code",
   "execution_count": 38,
   "metadata": {},
   "outputs": [
    {
     "data": {
      "text/plain": [
       "(array([  1.,   0.,   0.,   0.,   5.,   0., 402.,   0., 198., 481.]),\n",
       " array([2.5 , 2.75, 3.  , 3.25, 3.5 , 3.75, 4.  , 4.25, 4.5 , 4.75, 5.  ]),\n",
       " <BarContainer object of 10 artists>)"
      ]
     },
     "execution_count": 38,
     "metadata": {},
     "output_type": "execute_result"
    },
    {
     "data": {
      "image/png": "[encoded data removed]",
      "text/plain": [
       "<Figure size 432x288 with 1 Axes>"
      ]
     },
     "metadata": {
      "needs_background": "light"
     },
     "output_type": "display_data"
    }
   ],
   "source": [
    "plt.hist(airbnb[airbnb.price > 300].overall_satisfaction)"
   ]
  },
  {
   "cell_type": "code",
   "execution_count": 39,
   "metadata": {},
   "outputs": [
    {
     "data": {
      "text/plain": [
       "<matplotlib.collections.PathCollection at 0x245dbaa2340>"
      ]
     },
     "execution_count": 39,
     "metadata": {},
     "output_type": "execute_result"
    },
    {
     "data": {
      "image/png": "[encoded data removed]",
      "text/plain": [
       "<Figure size 432x288 with 1 Axes>"
      ]
     },
     "metadata": {
      "needs_background": "light"
     },
     "output_type": "display_data"
    }
   ],
   "source": [
    "plt.scatter(airbnb.price, airbnb.reviews)"
   ]
  },
  {
   "cell_type": "code",
   "execution_count": 40,
   "metadata": {},
   "outputs": [
    {
     "data": {
      "text/plain": [
       "<matplotlib.collections.PathCollection at 0x245dbb19b20>"
      ]
     },
     "execution_count": 40,
     "metadata": {},
     "output_type": "execute_result"
    },
    {
     "data": {
      "image/png": "[encoded data removed]",
      "text/plain": [
       "<Figure size 432x288 with 1 Axes>"
      ]
     },
     "metadata": {
      "needs_background": "light"
     },
     "output_type": "display_data"
    }
   ],
   "source": [
    "plt.scatter(airbnb.accommodates,airbnb.price)"
   ]
  },
  {
   "cell_type": "code",
   "execution_count": 41,
   "metadata": {},
   "outputs": [
    {
     "data": {
      "text/plain": [
       "<matplotlib.collections.PathCollection at 0x245dbb75df0>"
      ]
     },
     "execution_count": 41,
     "metadata": {},
     "output_type": "execute_result"
    },
    {
     "data": {
      "image/png": "[encoded data removed]",
      "text/plain": [
       "<Figure size 432x288 with 1 Axes>"
      ]
     },
     "metadata": {
      "needs_background": "light"
     },
     "output_type": "display_data"
    }
   ],
   "source": [
    "plt.scatter(airbnb.overall_satisfaction,airbnb.price)"
   ]
  },
  {
   "cell_type": "code",
   "execution_count": 42,
   "metadata": {},
   "outputs": [
    {
     "data": {
      "text/plain": [
       "<matplotlib.collections.PathCollection at 0x245dbbe7640>"
      ]
     },
     "execution_count": 42,
     "metadata": {},
     "output_type": "execute_result"
    },
    {
     "data": {
      "image/png": "[encoded data removed]",
      "text/plain": [
       "<Figure size 432x288 with 1 Axes>"
      ]
     },
     "metadata": {
      "needs_background": "light"
     },
     "output_type": "display_data"
    }
   ],
   "source": [
    "plt.scatter(airbnb.bedrooms,airbnb.price)"
   ]
  },
  {
   "cell_type": "code",
   "execution_count": 43,
   "metadata": {},
   "outputs": [
    {
     "data": {
      "text/plain": [
       "<AxesSubplot:>"
      ]
     },
     "execution_count": 43,
     "metadata": {},
     "output_type": "execute_result"
    },
    {
     "data": {
      "image/png": "[encoded data removed]",
      "text/plain": [
       "<Figure size 432x288 with 1 Axes>"
      ]
     },
     "metadata": {
      "needs_background": "light"
     },
     "output_type": "display_data"
    }
   ],
   "source": [
    "airbnb.plot()"
   ]
  },
  {
   "cell_type": "code",
   "execution_count": 44,
   "metadata": {},
   "outputs": [
    {
     "data": {
      "text/plain": [
       "<AxesSubplot:>"
      ]
     },
     "execution_count": 44,
     "metadata": {},
     "output_type": "execute_result"
    },
    {
     "data": {
      "image/png": "[encoded data removed]",
      "text/plain": [
       "<Figure size 1440x360 with 1 Axes>"
      ]
     },
     "metadata": {
      "needs_background": "light"
     },
     "output_type": "display_data"
    }
   ],
   "source": [
    "#Plotting neighborhood count\n",
    "airbnb.neighborhood.value_counts().plot(kind='bar',figsize=(20,5))"
   ]
  },
  {
   "cell_type": "markdown",
   "metadata": {},
   "source": [
    "airbnb.neighborhood.value_counts().plot(kind='barh')"
   ]
  },
  {
   "cell_type": "code",
   "execution_count": 45,
   "metadata": {},
   "outputs": [],
   "source": [
    "# Removing rows which are above Price range of 1500\n",
    "airbnb[airbnb.price > 1500].count()\n",
    "airbnb = airbnb[airbnb.price <1500]"
   ]
  },
  {
   "cell_type": "code",
   "execution_count": 46,
   "metadata": {},
   "outputs": [
    {
     "data": {
      "text/plain": [
       "180.0    961\n",
       "119.0    948\n",
       "144.0    819\n",
       "150.0    583\n",
       "132.0    549\n",
       "        ... \n",
       "427.0      1\n",
       "410.0      1\n",
       "320.0      1\n",
       "346.0      1\n",
       "41.0       1\n",
       "Name: price, Length: 413, dtype: int64"
      ]
     },
     "execution_count": 46,
     "metadata": {},
     "output_type": "execute_result"
    }
   ],
   "source": [
    "airbnb.price.value_counts()"
   ]
  },
  {
   "cell_type": "code",
   "execution_count": 47,
   "metadata": {},
   "outputs": [],
   "source": [
    "from sklearn.model_selection import train_test_split\n",
    "from sklearn.linear_model import LinearRegression"
   ]
  },
  {
   "cell_type": "code",
   "execution_count": 50,
   "metadata": {},
   "outputs": [
    {
     "data": {
      "text/html": [
       "<div>\n",
       "<style scoped>\n",
       "    .dataframe tbody tr th:only-of-type {\n",
       "        vertical-align: middle;\n",
       "    }\n",
       "\n",
       "    .dataframe tbody tr th {\n",
       "        vertical-align: top;\n",
       "    }\n",
       "\n",
       "    .dataframe thead th {\n",
       "        text-align: right;\n",
       "    }\n",
       "</style>\n",
       "<table border=\"1\" class=\"dataframe\">\n",
       "  <thead>\n",
       "    <tr style=\"text-align: right;\">\n",
       "      <th></th>\n",
       "      <th>room_id</th>\n",
       "      <th>survey_id</th>\n",
       "      <th>host_id</th>\n",
       "      <th>room_type</th>\n",
       "      <th>country</th>\n",
       "      <th>city</th>\n",
       "      <th>borough</th>\n",
       "      <th>neighborhood</th>\n",
       "      <th>reviews</th>\n",
       "      <th>overall_satisfaction</th>\n",
       "      <th>accommodates</th>\n",
       "      <th>bedrooms</th>\n",
       "      <th>bathrooms</th>\n",
       "      <th>price</th>\n",
       "      <th>minstay</th>\n",
       "      <th>name</th>\n",
       "      <th>last_modified</th>\n",
       "      <th>latitude</th>\n",
       "      <th>longitude</th>\n",
       "      <th>location</th>\n",
       "    </tr>\n",
       "  </thead>\n",
       "  <tbody>\n",
       "    <tr>\n",
       "      <th>33</th>\n",
       "      <td>10201214</td>\n",
       "      <td>1476</td>\n",
       "      <td>8497487</td>\n",
       "      <td>Entire home/apt</td>\n",
       "      <td>NaN</td>\n",
       "      <td>Amsterdam</td>\n",
       "      <td>NaN</td>\n",
       "      <td>Ijburg / Eiland Zeeburg</td>\n",
       "      <td>19</td>\n",
       "      <td>5.0</td>\n",
       "      <td>8</td>\n",
       "      <td>4.0</td>\n",
       "      <td>NaN</td>\n",
       "      <td>763.0</td>\n",
       "      <td>NaN</td>\n",
       "      <td>Beautiful Watervilla in Amsterdam</td>\n",
       "      <td>2017-07-23 13:02:10.468528</td>\n",
       "      <td>52.348254</td>\n",
       "      <td>5.001477</td>\n",
       "      <td>0101000020E6100000E7C8CA2F83011440C0594A96932C...</td>\n",
       "    </tr>\n",
       "    <tr>\n",
       "      <th>34</th>\n",
       "      <td>3119298</td>\n",
       "      <td>1476</td>\n",
       "      <td>15847782</td>\n",
       "      <td>Entire home/apt</td>\n",
       "      <td>NaN</td>\n",
       "      <td>Amsterdam</td>\n",
       "      <td>NaN</td>\n",
       "      <td>Westerpark</td>\n",
       "      <td>1</td>\n",
       "      <td>4.0</td>\n",
       "      <td>8</td>\n",
       "      <td>3.0</td>\n",
       "      <td>NaN</td>\n",
       "      <td>445.0</td>\n",
       "      <td>NaN</td>\n",
       "      <td>Modern 5-8 person apartment</td>\n",
       "      <td>2017-07-23 12:58:15.945759</td>\n",
       "      <td>52.377581</td>\n",
       "      <td>4.873119</td>\n",
       "      <td>0101000020E61000009D103AE8127E1340A54BFF925430...</td>\n",
       "    </tr>\n",
       "  </tbody>\n",
       "</table>\n",
       "</div>"
      ],
      "text/plain": [
       "     room_id  survey_id   host_id        room_type  country       city  \\\n",
       "33  10201214       1476   8497487  Entire home/apt      NaN  Amsterdam   \n",
       "34   3119298       1476  15847782  Entire home/apt      NaN  Amsterdam   \n",
       "\n",
       "    borough             neighborhood  reviews  overall_satisfaction  \\\n",
       "33      NaN  Ijburg / Eiland Zeeburg       19                   5.0   \n",
       "34      NaN               Westerpark        1                   4.0   \n",
       "\n",
       "    accommodates  bedrooms  bathrooms  price  minstay  \\\n",
       "33             8       4.0        NaN  763.0      NaN   \n",
       "34             8       3.0        NaN  445.0      NaN   \n",
       "\n",
       "                                 name               last_modified   latitude  \\\n",
       "33  Beautiful Watervilla in Amsterdam  2017-07-23 13:02:10.468528  52.348254   \n",
       "34        Modern 5-8 person apartment  2017-07-23 12:58:15.945759  52.377581   \n",
       "\n",
       "    longitude                                           location  \n",
       "33   5.001477  0101000020E6100000E7C8CA2F83011440C0594A96932C...  \n",
       "34   4.873119  0101000020E61000009D103AE8127E1340A54BFF925430...  "
      ]
     },
     "execution_count": 50,
     "metadata": {},
     "output_type": "execute_result"
    }
   ],
   "source": [
    "airbnb.head(2)"
   ]
  },
  {
   "cell_type": "code",
   "execution_count": 51,
   "metadata": {},
   "outputs": [],
   "source": [
    "X = airbnb.iloc[:,[8,9,10,11,]]"
   ]
  },
  {
   "cell_type": "code",
   "execution_count": 52,
   "metadata": {},
   "outputs": [],
   "source": [
    "Y = airbnb.price"
   ]
  },
  {
   "cell_type": "code",
   "execution_count": 53,
   "metadata": {},
   "outputs": [],
   "source": [
    "X_train,X_test,y_train,y_test = train_test_split(X.values,Y.values,test_size = .3,random_state=1)"
   ]
  },
  {
   "cell_type": "code",
   "execution_count": 54,
   "metadata": {},
   "outputs": [],
   "source": [
    "lm = LinearRegression()"
   ]
  },
  {
   "cell_type": "code",
   "execution_count": 55,
   "metadata": {},
   "outputs": [
    {
     "data": {
      "text/plain": [
       "LinearRegression()"
      ]
     },
     "execution_count": 55,
     "metadata": {},
     "output_type": "execute_result"
    }
   ],
   "source": [
    "lm.fit(X_train,y_train)"
   ]
  },
  {
   "cell_type": "code",
   "execution_count": 56,
   "metadata": {},
   "outputs": [],
   "source": [
    "y_pred = lm.predict(X_test)"
   ]
  },
  {
   "cell_type": "code",
   "execution_count": 57,
   "metadata": {},
   "outputs": [],
   "source": [
    "from sklearn.metrics import mean_absolute_error,mean_squared_error,r2_score"
   ]
  },
  {
   "cell_type": "code",
   "execution_count": 58,
   "metadata": {},
   "outputs": [
    {
     "data": {
      "text/plain": [
       "49.760048108236774"
      ]
     },
     "execution_count": 58,
     "metadata": {},
     "output_type": "execute_result"
    }
   ],
   "source": [
    "mean_absolute_error(y_test,y_pred)"
   ]
  },
  {
   "cell_type": "code",
   "execution_count": 59,
   "metadata": {},
   "outputs": [
    {
     "data": {
      "text/plain": [
       "77.0308769078892"
      ]
     },
     "execution_count": 59,
     "metadata": {},
     "output_type": "execute_result"
    }
   ],
   "source": [
    "np.sqrt(mean_squared_error(y_test,y_pred))"
   ]
  },
  {
   "cell_type": "code",
   "execution_count": 60,
   "metadata": {},
   "outputs": [
    {
     "data": {
      "text/plain": [
       "array([-0.15730951, 13.06118553, 26.17337276, 29.26738688])"
      ]
     },
     "execution_count": 60,
     "metadata": {},
     "output_type": "execute_result"
    }
   ],
   "source": [
    "lm.coef_"
   ]
  },
  {
   "cell_type": "code",
   "execution_count": 61,
   "metadata": {},
   "outputs": [
    {
     "name": "stdout",
     "output_type": "stream",
     "text": [
      "<bound method RegressorMixin.score of LinearRegression()>\n"
     ]
    }
   ],
   "source": [
    "print(lm.score)"
   ]
  },
  {
   "cell_type": "code",
   "execution_count": 62,
   "metadata": {},
   "outputs": [
    {
     "data": {
      "text/plain": [
       "0.3555865319381407"
      ]
     },
     "execution_count": 62,
     "metadata": {},
     "output_type": "execute_result"
    }
   ],
   "source": [
    "r2_score(y_test,y_pred)"
   ]
  },
  {
   "cell_type": "code",
   "execution_count": 63,
   "metadata": {},
   "outputs": [],
   "source": [
    "# Using one hot encoding to transform categorical values"
   ]
  },
  {
   "cell_type": "code",
   "execution_count": 64,
   "metadata": {},
   "outputs": [
    {
     "data": {
      "text/html": [
       "<div>\n",
       "<style scoped>\n",
       "    .dataframe tbody tr th:only-of-type {\n",
       "        vertical-align: middle;\n",
       "    }\n",
       "\n",
       "    .dataframe tbody tr th {\n",
       "        vertical-align: top;\n",
       "    }\n",
       "\n",
       "    .dataframe thead th {\n",
       "        text-align: right;\n",
       "    }\n",
       "</style>\n",
       "<table border=\"1\" class=\"dataframe\">\n",
       "  <thead>\n",
       "    <tr style=\"text-align: right;\">\n",
       "      <th></th>\n",
       "      <th>room_id</th>\n",
       "      <th>survey_id</th>\n",
       "      <th>host_id</th>\n",
       "      <th>room_type</th>\n",
       "      <th>country</th>\n",
       "      <th>city</th>\n",
       "      <th>borough</th>\n",
       "      <th>neighborhood</th>\n",
       "      <th>reviews</th>\n",
       "      <th>overall_satisfaction</th>\n",
       "      <th>accommodates</th>\n",
       "      <th>bedrooms</th>\n",
       "      <th>bathrooms</th>\n",
       "      <th>price</th>\n",
       "      <th>minstay</th>\n",
       "      <th>name</th>\n",
       "      <th>last_modified</th>\n",
       "      <th>latitude</th>\n",
       "      <th>longitude</th>\n",
       "      <th>location</th>\n",
       "    </tr>\n",
       "  </thead>\n",
       "  <tbody>\n",
       "    <tr>\n",
       "      <th>33</th>\n",
       "      <td>10201214</td>\n",
       "      <td>1476</td>\n",
       "      <td>8497487</td>\n",
       "      <td>Entire home/apt</td>\n",
       "      <td>NaN</td>\n",
       "      <td>Amsterdam</td>\n",
       "      <td>NaN</td>\n",
       "      <td>Ijburg / Eiland Zeeburg</td>\n",
       "      <td>19</td>\n",
       "      <td>5.0</td>\n",
       "      <td>8</td>\n",
       "      <td>4.0</td>\n",
       "      <td>NaN</td>\n",
       "      <td>763.0</td>\n",
       "      <td>NaN</td>\n",
       "      <td>Beautiful Watervilla in Amsterdam</td>\n",
       "      <td>2017-07-23 13:02:10.468528</td>\n",
       "      <td>52.348254</td>\n",
       "      <td>5.001477</td>\n",
       "      <td>0101000020E6100000E7C8CA2F83011440C0594A96932C...</td>\n",
       "    </tr>\n",
       "    <tr>\n",
       "      <th>34</th>\n",
       "      <td>3119298</td>\n",
       "      <td>1476</td>\n",
       "      <td>15847782</td>\n",
       "      <td>Entire home/apt</td>\n",
       "      <td>NaN</td>\n",
       "      <td>Amsterdam</td>\n",
       "      <td>NaN</td>\n",
       "      <td>Westerpark</td>\n",
       "      <td>1</td>\n",
       "      <td>4.0</td>\n",
       "      <td>8</td>\n",
       "      <td>3.0</td>\n",
       "      <td>NaN</td>\n",
       "      <td>445.0</td>\n",
       "      <td>NaN</td>\n",
       "      <td>Modern 5-8 person apartment</td>\n",
       "      <td>2017-07-23 12:58:15.945759</td>\n",
       "      <td>52.377581</td>\n",
       "      <td>4.873119</td>\n",
       "      <td>0101000020E61000009D103AE8127E1340A54BFF925430...</td>\n",
       "    </tr>\n",
       "  </tbody>\n",
       "</table>\n",
       "</div>"
      ],
      "text/plain": [
       "     room_id  survey_id   host_id        room_type  country       city  \\\n",
       "33  10201214       1476   8497487  Entire home/apt      NaN  Amsterdam   \n",
       "34   3119298       1476  15847782  Entire home/apt      NaN  Amsterdam   \n",
       "\n",
       "    borough             neighborhood  reviews  overall_satisfaction  \\\n",
       "33      NaN  Ijburg / Eiland Zeeburg       19                   5.0   \n",
       "34      NaN               Westerpark        1                   4.0   \n",
       "\n",
       "    accommodates  bedrooms  bathrooms  price  minstay  \\\n",
       "33             8       4.0        NaN  763.0      NaN   \n",
       "34             8       3.0        NaN  445.0      NaN   \n",
       "\n",
       "                                 name               last_modified   latitude  \\\n",
       "33  Beautiful Watervilla in Amsterdam  2017-07-23 13:02:10.468528  52.348254   \n",
       "34        Modern 5-8 person apartment  2017-07-23 12:58:15.945759  52.377581   \n",
       "\n",
       "    longitude                                           location  \n",
       "33   5.001477  0101000020E6100000E7C8CA2F83011440C0594A96932C...  \n",
       "34   4.873119  0101000020E61000009D103AE8127E1340A54BFF925430...  "
      ]
     },
     "execution_count": 64,
     "metadata": {},
     "output_type": "execute_result"
    }
   ],
   "source": [
    "airbnb.head(2)"
   ]
  },
  {
   "cell_type": "code",
   "execution_count": 65,
   "metadata": {},
   "outputs": [],
   "source": [
    "# Because one hot encoding only takes numerical value, first need to convert the label into numeric and then use \n",
    "# one hot encoding"
   ]
  },
  {
   "cell_type": "code",
   "execution_count": 66,
   "metadata": {},
   "outputs": [],
   "source": [
    "from sklearn.preprocessing import LabelEncoder"
   ]
  },
  {
   "cell_type": "code",
   "execution_count": 67,
   "metadata": {},
   "outputs": [],
   "source": [
    "le = LabelEncoder()"
   ]
  },
  {
   "cell_type": "code",
   "execution_count": 68,
   "metadata": {},
   "outputs": [
    {
     "name": "stderr",
     "output_type": "stream",
     "text": [
      "<ipython-input-68-07b7764d05b5>:1: SettingWithCopyWarning: \n",
      "A value is trying to be set on a copy of a slice from a DataFrame.\n",
      "Try using .loc[row_indexer,col_indexer] = value instead\n",
      "\n",
      "See the caveats in the documentation: https://pandas.pydata.org/pandas-docs/stable/user_guide/indexing.html#returning-a-view-versus-a-copy\n",
      "  airbnb['room_type'] = le.fit_transform(airbnb['room_type'])\n"
     ]
    }
   ],
   "source": [
    "airbnb['room_type'] = le.fit_transform(airbnb['room_type'])"
   ]
  },
  {
   "cell_type": "code",
   "execution_count": 69,
   "metadata": {},
   "outputs": [
    {
     "name": "stderr",
     "output_type": "stream",
     "text": [
      "<ipython-input-69-7005fe67f4e4>:1: SettingWithCopyWarning: \n",
      "A value is trying to be set on a copy of a slice from a DataFrame.\n",
      "Try using .loc[row_indexer,col_indexer] = value instead\n",
      "\n",
      "See the caveats in the documentation: https://pandas.pydata.org/pandas-docs/stable/user_guide/indexing.html#returning-a-view-versus-a-copy\n",
      "  airbnb['neighborhood'] = le.fit_transform(airbnb['neighborhood'])\n"
     ]
    }
   ],
   "source": [
    "airbnb['neighborhood'] = le.fit_transform(airbnb['neighborhood'])"
   ]
  },
  {
   "cell_type": "code",
   "execution_count": 70,
   "metadata": {},
   "outputs": [
    {
     "data": {
      "text/html": [
       "<div>\n",
       "<style scoped>\n",
       "    .dataframe tbody tr th:only-of-type {\n",
       "        vertical-align: middle;\n",
       "    }\n",
       "\n",
       "    .dataframe tbody tr th {\n",
       "        vertical-align: top;\n",
       "    }\n",
       "\n",
       "    .dataframe thead th {\n",
       "        text-align: right;\n",
       "    }\n",
       "</style>\n",
       "<table border=\"1\" class=\"dataframe\">\n",
       "  <thead>\n",
       "    <tr style=\"text-align: right;\">\n",
       "      <th></th>\n",
       "      <th>room_id</th>\n",
       "      <th>survey_id</th>\n",
       "      <th>host_id</th>\n",
       "      <th>room_type</th>\n",
       "      <th>country</th>\n",
       "      <th>city</th>\n",
       "      <th>borough</th>\n",
       "      <th>neighborhood</th>\n",
       "      <th>reviews</th>\n",
       "      <th>overall_satisfaction</th>\n",
       "      <th>accommodates</th>\n",
       "      <th>bedrooms</th>\n",
       "      <th>bathrooms</th>\n",
       "      <th>price</th>\n",
       "      <th>minstay</th>\n",
       "      <th>name</th>\n",
       "      <th>last_modified</th>\n",
       "      <th>latitude</th>\n",
       "      <th>longitude</th>\n",
       "      <th>location</th>\n",
       "    </tr>\n",
       "  </thead>\n",
       "  <tbody>\n",
       "    <tr>\n",
       "      <th>33</th>\n",
       "      <td>10201214</td>\n",
       "      <td>1476</td>\n",
       "      <td>8497487</td>\n",
       "      <td>0</td>\n",
       "      <td>NaN</td>\n",
       "      <td>Amsterdam</td>\n",
       "      <td>NaN</td>\n",
       "      <td>11</td>\n",
       "      <td>19</td>\n",
       "      <td>5.0</td>\n",
       "      <td>8</td>\n",
       "      <td>4.0</td>\n",
       "      <td>NaN</td>\n",
       "      <td>763.0</td>\n",
       "      <td>NaN</td>\n",
       "      <td>Beautiful Watervilla in Amsterdam</td>\n",
       "      <td>2017-07-23 13:02:10.468528</td>\n",
       "      <td>52.348254</td>\n",
       "      <td>5.001477</td>\n",
       "      <td>0101000020E6100000E7C8CA2F83011440C0594A96932C...</td>\n",
       "    </tr>\n",
       "    <tr>\n",
       "      <th>34</th>\n",
       "      <td>3119298</td>\n",
       "      <td>1476</td>\n",
       "      <td>15847782</td>\n",
       "      <td>0</td>\n",
       "      <td>NaN</td>\n",
       "      <td>Amsterdam</td>\n",
       "      <td>NaN</td>\n",
       "      <td>21</td>\n",
       "      <td>1</td>\n",
       "      <td>4.0</td>\n",
       "      <td>8</td>\n",
       "      <td>3.0</td>\n",
       "      <td>NaN</td>\n",
       "      <td>445.0</td>\n",
       "      <td>NaN</td>\n",
       "      <td>Modern 5-8 person apartment</td>\n",
       "      <td>2017-07-23 12:58:15.945759</td>\n",
       "      <td>52.377581</td>\n",
       "      <td>4.873119</td>\n",
       "      <td>0101000020E61000009D103AE8127E1340A54BFF925430...</td>\n",
       "    </tr>\n",
       "  </tbody>\n",
       "</table>\n",
       "</div>"
      ],
      "text/plain": [
       "     room_id  survey_id   host_id  room_type  country       city  borough  \\\n",
       "33  10201214       1476   8497487          0      NaN  Amsterdam      NaN   \n",
       "34   3119298       1476  15847782          0      NaN  Amsterdam      NaN   \n",
       "\n",
       "    neighborhood  reviews  overall_satisfaction  accommodates  bedrooms  \\\n",
       "33            11       19                   5.0             8       4.0   \n",
       "34            21        1                   4.0             8       3.0   \n",
       "\n",
       "    bathrooms  price  minstay                               name  \\\n",
       "33        NaN  763.0      NaN  Beautiful Watervilla in Amsterdam   \n",
       "34        NaN  445.0      NaN        Modern 5-8 person apartment   \n",
       "\n",
       "                 last_modified   latitude  longitude  \\\n",
       "33  2017-07-23 13:02:10.468528  52.348254   5.001477   \n",
       "34  2017-07-23 12:58:15.945759  52.377581   4.873119   \n",
       "\n",
       "                                             location  \n",
       "33  0101000020E6100000E7C8CA2F83011440C0594A96932C...  \n",
       "34  0101000020E61000009D103AE8127E1340A54BFF925430...  "
      ]
     },
     "execution_count": 70,
     "metadata": {},
     "output_type": "execute_result"
    }
   ],
   "source": [
    "airbnb.head(2)"
   ]
  },
  {
   "cell_type": "code",
   "execution_count": 71,
   "metadata": {},
   "outputs": [],
   "source": [
    "# Above we have converted the lables, now we'll use one hot encoding to create new variables"
   ]
  },
  {
   "cell_type": "code",
   "execution_count": 78,
   "metadata": {},
   "outputs": [],
   "source": [
    "from sklearn.preprocessing import OneHotEncoder"
   ]
  },
  {
   "cell_type": "code",
   "execution_count": 80,
   "metadata": {
    "scrolled": true
   },
   "outputs": [],
   "source": [
    "ohc = OneHotEncoder(categories='auto', sparse=False)"
   ]
  },
  {
   "cell_type": "code",
   "execution_count": 81,
   "metadata": {},
   "outputs": [],
   "source": [
    "X1 = airbnb.iloc[:,[3,7,8,9,10,11]]"
   ]
  },
  {
   "cell_type": "code",
   "execution_count": 82,
   "metadata": {},
   "outputs": [
    {
     "data": {
      "text/html": [
       "<div>\n",
       "<style scoped>\n",
       "    .dataframe tbody tr th:only-of-type {\n",
       "        vertical-align: middle;\n",
       "    }\n",
       "\n",
       "    .dataframe tbody tr th {\n",
       "        vertical-align: top;\n",
       "    }\n",
       "\n",
       "    .dataframe thead th {\n",
       "        text-align: right;\n",
       "    }\n",
       "</style>\n",
       "<table border=\"1\" class=\"dataframe\">\n",
       "  <thead>\n",
       "    <tr style=\"text-align: right;\">\n",
       "      <th></th>\n",
       "      <th>room_type</th>\n",
       "      <th>neighborhood</th>\n",
       "      <th>reviews</th>\n",
       "      <th>overall_satisfaction</th>\n",
       "      <th>accommodates</th>\n",
       "      <th>bedrooms</th>\n",
       "    </tr>\n",
       "  </thead>\n",
       "  <tbody>\n",
       "    <tr>\n",
       "      <th>33</th>\n",
       "      <td>0</td>\n",
       "      <td>11</td>\n",
       "      <td>19</td>\n",
       "      <td>5.0</td>\n",
       "      <td>8</td>\n",
       "      <td>4.0</td>\n",
       "    </tr>\n",
       "    <tr>\n",
       "      <th>34</th>\n",
       "      <td>0</td>\n",
       "      <td>21</td>\n",
       "      <td>1</td>\n",
       "      <td>4.0</td>\n",
       "      <td>8</td>\n",
       "      <td>3.0</td>\n",
       "    </tr>\n",
       "  </tbody>\n",
       "</table>\n",
       "</div>"
      ],
      "text/plain": [
       "    room_type  neighborhood  reviews  overall_satisfaction  accommodates  \\\n",
       "33          0            11       19                   5.0             8   \n",
       "34          0            21        1                   4.0             8   \n",
       "\n",
       "    bedrooms  \n",
       "33       4.0  \n",
       "34       3.0  "
      ]
     },
     "execution_count": 82,
     "metadata": {},
     "output_type": "execute_result"
    }
   ],
   "source": [
    "X1.head(2)"
   ]
  },
  {
   "cell_type": "code",
   "execution_count": 84,
   "metadata": {},
   "outputs": [],
   "source": [
    "X1 = ohc.fit_transform(X1)"
   ]
  },
  {
   "cell_type": "code",
   "execution_count": 85,
   "metadata": {},
   "outputs": [
    {
     "data": {
      "text/plain": [
       "array([[1., 0., 0., ..., 0., 0., 0.],\n",
       "       [1., 0., 0., ..., 0., 0., 0.],\n",
       "       [1., 0., 0., ..., 0., 0., 0.],\n",
       "       ...,\n",
       "       [0., 1., 0., ..., 0., 0., 0.],\n",
       "       [0., 1., 0., ..., 0., 0., 0.],\n",
       "       [0., 1., 0., ..., 0., 0., 0.]])"
      ]
     },
     "execution_count": 85,
     "metadata": {},
     "output_type": "execute_result"
    }
   ],
   "source": [
    "X1"
   ]
  },
  {
   "cell_type": "code",
   "execution_count": 86,
   "metadata": {},
   "outputs": [],
   "source": [
    "Y1 = airbnb.price"
   ]
  },
  {
   "cell_type": "code",
   "execution_count": 87,
   "metadata": {},
   "outputs": [],
   "source": [
    "X1_train,X1_test,y1_train,y1_test = train_test_split(X1,Y1.values,test_size=.3,random_state=3)"
   ]
  },
  {
   "cell_type": "code",
   "execution_count": 88,
   "metadata": {},
   "outputs": [],
   "source": [
    "lm1 = LinearRegression()"
   ]
  },
  {
   "cell_type": "code",
   "execution_count": 89,
   "metadata": {},
   "outputs": [
    {
     "data": {
      "text/plain": [
       "LinearRegression()"
      ]
     },
     "execution_count": 89,
     "metadata": {},
     "output_type": "execute_result"
    }
   ],
   "source": [
    "lm1.fit(X1_train, y1_train)"
   ]
  },
  {
   "cell_type": "code",
   "execution_count": 90,
   "metadata": {},
   "outputs": [],
   "source": [
    "y1_pred = lm1.predict(X1_test)"
   ]
  },
  {
   "cell_type": "code",
   "execution_count": 91,
   "metadata": {},
   "outputs": [
    {
     "data": {
      "text/plain": [
       "-1.5327525078500896e+17"
      ]
     },
     "execution_count": 91,
     "metadata": {},
     "output_type": "execute_result"
    }
   ],
   "source": [
    "r2_score(y1_test,y1_pred)"
   ]
  },
  {
   "cell_type": "code",
   "execution_count": 92,
   "metadata": {},
   "outputs": [
    {
     "data": {
      "text/plain": [
       "757297156.4171835"
      ]
     },
     "execution_count": 92,
     "metadata": {},
     "output_type": "execute_result"
    }
   ],
   "source": [
    "mean_absolute_error(y1_test,y1_pred)"
   ]
  },
  {
   "cell_type": "code",
   "execution_count": 93,
   "metadata": {},
   "outputs": [
    {
     "data": {
      "text/plain": [
       "37775999499.76959"
      ]
     },
     "execution_count": 93,
     "metadata": {},
     "output_type": "execute_result"
    }
   ],
   "source": [
    "np.sqrt(mean_squared_error(y1_test,y1_pred))"
   ]
  },
  {
   "cell_type": "code",
   "execution_count": 94,
   "metadata": {},
   "outputs": [],
   "source": [
    "# Creating log linear regression"
   ]
  },
  {
   "cell_type": "code",
   "execution_count": 95,
   "metadata": {},
   "outputs": [],
   "source": [
    "X_log = airbnb.iloc[:,[3,7,8,9,10,11]]"
   ]
  },
  {
   "cell_type": "code",
   "execution_count": 96,
   "metadata": {},
   "outputs": [
    {
     "data": {
      "text/html": [
       "<div>\n",
       "<style scoped>\n",
       "    .dataframe tbody tr th:only-of-type {\n",
       "        vertical-align: middle;\n",
       "    }\n",
       "\n",
       "    .dataframe tbody tr th {\n",
       "        vertical-align: top;\n",
       "    }\n",
       "\n",
       "    .dataframe thead th {\n",
       "        text-align: right;\n",
       "    }\n",
       "</style>\n",
       "<table border=\"1\" class=\"dataframe\">\n",
       "  <thead>\n",
       "    <tr style=\"text-align: right;\">\n",
       "      <th></th>\n",
       "      <th>room_type</th>\n",
       "      <th>neighborhood</th>\n",
       "      <th>reviews</th>\n",
       "      <th>overall_satisfaction</th>\n",
       "      <th>accommodates</th>\n",
       "      <th>bedrooms</th>\n",
       "    </tr>\n",
       "  </thead>\n",
       "  <tbody>\n",
       "    <tr>\n",
       "      <th>33</th>\n",
       "      <td>0</td>\n",
       "      <td>11</td>\n",
       "      <td>19</td>\n",
       "      <td>5.0</td>\n",
       "      <td>8</td>\n",
       "      <td>4.0</td>\n",
       "    </tr>\n",
       "    <tr>\n",
       "      <th>34</th>\n",
       "      <td>0</td>\n",
       "      <td>21</td>\n",
       "      <td>1</td>\n",
       "      <td>4.0</td>\n",
       "      <td>8</td>\n",
       "      <td>3.0</td>\n",
       "    </tr>\n",
       "  </tbody>\n",
       "</table>\n",
       "</div>"
      ],
      "text/plain": [
       "    room_type  neighborhood  reviews  overall_satisfaction  accommodates  \\\n",
       "33          0            11       19                   5.0             8   \n",
       "34          0            21        1                   4.0             8   \n",
       "\n",
       "    bedrooms  \n",
       "33       4.0  \n",
       "34       3.0  "
      ]
     },
     "execution_count": 96,
     "metadata": {},
     "output_type": "execute_result"
    }
   ],
   "source": [
    "X_log.head(2)"
   ]
  },
  {
   "cell_type": "code",
   "execution_count": 97,
   "metadata": {},
   "outputs": [
    {
     "name": "stderr",
     "output_type": "stream",
     "text": [
      "<ipython-input-97-69b4f2de6860>:1: SettingWithCopyWarning: \n",
      "A value is trying to be set on a copy of a slice from a DataFrame.\n",
      "Try using .loc[row_indexer,col_indexer] = value instead\n",
      "\n",
      "See the caveats in the documentation: https://pandas.pydata.org/pandas-docs/stable/user_guide/indexing.html#returning-a-view-versus-a-copy\n",
      "  X_log['reviews'] = np.log10(X_log['reviews']+1)\n",
      "<ipython-input-97-69b4f2de6860>:2: SettingWithCopyWarning: \n",
      "A value is trying to be set on a copy of a slice from a DataFrame.\n",
      "Try using .loc[row_indexer,col_indexer] = value instead\n",
      "\n",
      "See the caveats in the documentation: https://pandas.pydata.org/pandas-docs/stable/user_guide/indexing.html#returning-a-view-versus-a-copy\n",
      "  X_log['accommodates'] = np.log10(X_log['accommodates'])\n",
      "<ipython-input-97-69b4f2de6860>:3: SettingWithCopyWarning: \n",
      "A value is trying to be set on a copy of a slice from a DataFrame.\n",
      "Try using .loc[row_indexer,col_indexer] = value instead\n",
      "\n",
      "See the caveats in the documentation: https://pandas.pydata.org/pandas-docs/stable/user_guide/indexing.html#returning-a-view-versus-a-copy\n",
      "  X_log['bedrooms'] = np.log10(X_log['bedrooms'])\n"
     ]
    }
   ],
   "source": [
    "X_log['reviews'] = np.log10(X_log['reviews']+1)\n",
    "X_log['accommodates'] = np.log10(X_log['accommodates'])\n",
    "X_log['bedrooms'] = np.log10(X_log['bedrooms'])"
   ]
  },
  {
   "cell_type": "code",
   "execution_count": 98,
   "metadata": {},
   "outputs": [
    {
     "data": {
      "text/html": [
       "<div>\n",
       "<style scoped>\n",
       "    .dataframe tbody tr th:only-of-type {\n",
       "        vertical-align: middle;\n",
       "    }\n",
       "\n",
       "    .dataframe tbody tr th {\n",
       "        vertical-align: top;\n",
       "    }\n",
       "\n",
       "    .dataframe thead th {\n",
       "        text-align: right;\n",
       "    }\n",
       "</style>\n",
       "<table border=\"1\" class=\"dataframe\">\n",
       "  <thead>\n",
       "    <tr style=\"text-align: right;\">\n",
       "      <th></th>\n",
       "      <th>room_type</th>\n",
       "      <th>neighborhood</th>\n",
       "      <th>reviews</th>\n",
       "      <th>overall_satisfaction</th>\n",
       "      <th>accommodates</th>\n",
       "      <th>bedrooms</th>\n",
       "    </tr>\n",
       "  </thead>\n",
       "  <tbody>\n",
       "    <tr>\n",
       "      <th>33</th>\n",
       "      <td>0</td>\n",
       "      <td>11</td>\n",
       "      <td>1.301030</td>\n",
       "      <td>5.0</td>\n",
       "      <td>0.903090</td>\n",
       "      <td>0.602060</td>\n",
       "    </tr>\n",
       "    <tr>\n",
       "      <th>34</th>\n",
       "      <td>0</td>\n",
       "      <td>21</td>\n",
       "      <td>0.301030</td>\n",
       "      <td>4.0</td>\n",
       "      <td>0.903090</td>\n",
       "      <td>0.477121</td>\n",
       "    </tr>\n",
       "    <tr>\n",
       "      <th>35</th>\n",
       "      <td>0</td>\n",
       "      <td>5</td>\n",
       "      <td>1.041393</td>\n",
       "      <td>5.0</td>\n",
       "      <td>0.602060</td>\n",
       "      <td>0.477121</td>\n",
       "    </tr>\n",
       "    <tr>\n",
       "      <th>36</th>\n",
       "      <td>0</td>\n",
       "      <td>20</td>\n",
       "      <td>0.301030</td>\n",
       "      <td>4.0</td>\n",
       "      <td>0.903090</td>\n",
       "      <td>0.477121</td>\n",
       "    </tr>\n",
       "    <tr>\n",
       "      <th>37</th>\n",
       "      <td>0</td>\n",
       "      <td>5</td>\n",
       "      <td>0.000000</td>\n",
       "      <td>4.0</td>\n",
       "      <td>0.602060</td>\n",
       "      <td>0.602060</td>\n",
       "    </tr>\n",
       "    <tr>\n",
       "      <th>38</th>\n",
       "      <td>0</td>\n",
       "      <td>14</td>\n",
       "      <td>0.477121</td>\n",
       "      <td>4.0</td>\n",
       "      <td>0.602060</td>\n",
       "      <td>0.301030</td>\n",
       "    </tr>\n",
       "    <tr>\n",
       "      <th>39</th>\n",
       "      <td>0</td>\n",
       "      <td>8</td>\n",
       "      <td>1.380211</td>\n",
       "      <td>4.5</td>\n",
       "      <td>0.602060</td>\n",
       "      <td>0.602060</td>\n",
       "    </tr>\n",
       "    <tr>\n",
       "      <th>40</th>\n",
       "      <td>0</td>\n",
       "      <td>6</td>\n",
       "      <td>0.000000</td>\n",
       "      <td>4.0</td>\n",
       "      <td>0.602060</td>\n",
       "      <td>0.301030</td>\n",
       "    </tr>\n",
       "    <tr>\n",
       "      <th>41</th>\n",
       "      <td>0</td>\n",
       "      <td>8</td>\n",
       "      <td>1.255273</td>\n",
       "      <td>4.5</td>\n",
       "      <td>0.602060</td>\n",
       "      <td>0.301030</td>\n",
       "    </tr>\n",
       "    <tr>\n",
       "      <th>42</th>\n",
       "      <td>0</td>\n",
       "      <td>4</td>\n",
       "      <td>1.204120</td>\n",
       "      <td>5.0</td>\n",
       "      <td>0.778151</td>\n",
       "      <td>0.602060</td>\n",
       "    </tr>\n",
       "  </tbody>\n",
       "</table>\n",
       "</div>"
      ],
      "text/plain": [
       "    room_type  neighborhood   reviews  overall_satisfaction  accommodates  \\\n",
       "33          0            11  1.301030                   5.0      0.903090   \n",
       "34          0            21  0.301030                   4.0      0.903090   \n",
       "35          0             5  1.041393                   5.0      0.602060   \n",
       "36          0            20  0.301030                   4.0      0.903090   \n",
       "37          0             5  0.000000                   4.0      0.602060   \n",
       "38          0            14  0.477121                   4.0      0.602060   \n",
       "39          0             8  1.380211                   4.5      0.602060   \n",
       "40          0             6  0.000000                   4.0      0.602060   \n",
       "41          0             8  1.255273                   4.5      0.602060   \n",
       "42          0             4  1.204120                   5.0      0.778151   \n",
       "\n",
       "    bedrooms  \n",
       "33  0.602060  \n",
       "34  0.477121  \n",
       "35  0.477121  \n",
       "36  0.477121  \n",
       "37  0.602060  \n",
       "38  0.301030  \n",
       "39  0.602060  \n",
       "40  0.301030  \n",
       "41  0.301030  \n",
       "42  0.602060  "
      ]
     },
     "execution_count": 98,
     "metadata": {},
     "output_type": "execute_result"
    }
   ],
   "source": [
    "X_log.head(10)"
   ]
  },
  {
   "cell_type": "code",
   "execution_count": 100,
   "metadata": {},
   "outputs": [],
   "source": [
    "X_log = ohc.fit_transform(X_log)"
   ]
  },
  {
   "cell_type": "code",
   "execution_count": null,
   "metadata": {},
   "outputs": [],
   "source": []
  },
  {
   "cell_type": "code",
   "execution_count": 101,
   "metadata": {},
   "outputs": [],
   "source": [
    "xlog_train,xlog_test,ylog_train,ylog_test = train_test_split(X_log,Y.values,test_size=.3,random_state=5)"
   ]
  },
  {
   "cell_type": "code",
   "execution_count": 102,
   "metadata": {},
   "outputs": [],
   "source": [
    "lm_log = LinearRegression()"
   ]
  },
  {
   "cell_type": "code",
   "execution_count": 103,
   "metadata": {},
   "outputs": [
    {
     "data": {
      "text/plain": [
       "LinearRegression()"
      ]
     },
     "execution_count": 103,
     "metadata": {},
     "output_type": "execute_result"
    }
   ],
   "source": [
    "lm_log.fit(xlog_train,ylog_train)"
   ]
  },
  {
   "cell_type": "code",
   "execution_count": 104,
   "metadata": {},
   "outputs": [],
   "source": [
    "ylog_pred = lm_log.predict(xlog_test)"
   ]
  },
  {
   "cell_type": "code",
   "execution_count": 105,
   "metadata": {},
   "outputs": [
    {
     "data": {
      "text/plain": [
       "-4.822720908603055e+19"
      ]
     },
     "execution_count": 105,
     "metadata": {},
     "output_type": "execute_result"
    }
   ],
   "source": [
    "r2_score(ylog_test,ylog_pred)"
   ]
  },
  {
   "cell_type": "code",
   "execution_count": 106,
   "metadata": {},
   "outputs": [
    {
     "data": {
      "text/plain": [
       "14135243168.807234"
      ]
     },
     "execution_count": 106,
     "metadata": {},
     "output_type": "execute_result"
    }
   ],
   "source": [
    "mean_absolute_error(ylog_test,ylog_pred)"
   ]
  },
  {
   "cell_type": "code",
   "execution_count": 107,
   "metadata": {},
   "outputs": [
    {
     "data": {
      "text/plain": [
       "699002288447.459"
      ]
     },
     "execution_count": 107,
     "metadata": {},
     "output_type": "execute_result"
    }
   ],
   "source": [
    "np.sqrt(mean_squared_error(ylog_test,ylog_pred))"
   ]
  },
  {
   "cell_type": "code",
   "execution_count": 108,
   "metadata": {},
   "outputs": [],
   "source": [
    "xlog_df = pd.DataFrame(X_log)"
   ]
  },
  {
   "cell_type": "code",
   "execution_count": 109,
   "metadata": {},
   "outputs": [
    {
     "data": {
      "text/html": [
       "<div>\n",
       "<style scoped>\n",
       "    .dataframe tbody tr th:only-of-type {\n",
       "        vertical-align: middle;\n",
       "    }\n",
       "\n",
       "    .dataframe tbody tr th {\n",
       "        vertical-align: top;\n",
       "    }\n",
       "\n",
       "    .dataframe thead th {\n",
       "        text-align: right;\n",
       "    }\n",
       "</style>\n",
       "<table border=\"1\" class=\"dataframe\">\n",
       "  <thead>\n",
       "    <tr style=\"text-align: right;\">\n",
       "      <th></th>\n",
       "      <th>0</th>\n",
       "      <th>1</th>\n",
       "      <th>2</th>\n",
       "      <th>3</th>\n",
       "      <th>4</th>\n",
       "      <th>5</th>\n",
       "      <th>6</th>\n",
       "      <th>7</th>\n",
       "      <th>8</th>\n",
       "      <th>9</th>\n",
       "      <th>...</th>\n",
       "      <th>324</th>\n",
       "      <th>325</th>\n",
       "      <th>326</th>\n",
       "      <th>327</th>\n",
       "      <th>328</th>\n",
       "      <th>329</th>\n",
       "      <th>330</th>\n",
       "      <th>331</th>\n",
       "      <th>332</th>\n",
       "      <th>333</th>\n",
       "    </tr>\n",
       "  </thead>\n",
       "  <tbody>\n",
       "    <tr>\n",
       "      <th>0</th>\n",
       "      <td>1.0</td>\n",
       "      <td>0.0</td>\n",
       "      <td>0.0</td>\n",
       "      <td>0.0</td>\n",
       "      <td>0.0</td>\n",
       "      <td>0.0</td>\n",
       "      <td>0.0</td>\n",
       "      <td>0.0</td>\n",
       "      <td>0.0</td>\n",
       "      <td>0.0</td>\n",
       "      <td>...</td>\n",
       "      <td>0.0</td>\n",
       "      <td>0.0</td>\n",
       "      <td>0.0</td>\n",
       "      <td>1.0</td>\n",
       "      <td>0.0</td>\n",
       "      <td>0.0</td>\n",
       "      <td>0.0</td>\n",
       "      <td>0.0</td>\n",
       "      <td>0.0</td>\n",
       "      <td>0.0</td>\n",
       "    </tr>\n",
       "    <tr>\n",
       "      <th>1</th>\n",
       "      <td>1.0</td>\n",
       "      <td>0.0</td>\n",
       "      <td>0.0</td>\n",
       "      <td>0.0</td>\n",
       "      <td>0.0</td>\n",
       "      <td>0.0</td>\n",
       "      <td>0.0</td>\n",
       "      <td>0.0</td>\n",
       "      <td>0.0</td>\n",
       "      <td>0.0</td>\n",
       "      <td>...</td>\n",
       "      <td>0.0</td>\n",
       "      <td>0.0</td>\n",
       "      <td>1.0</td>\n",
       "      <td>0.0</td>\n",
       "      <td>0.0</td>\n",
       "      <td>0.0</td>\n",
       "      <td>0.0</td>\n",
       "      <td>0.0</td>\n",
       "      <td>0.0</td>\n",
       "      <td>0.0</td>\n",
       "    </tr>\n",
       "    <tr>\n",
       "      <th>2</th>\n",
       "      <td>1.0</td>\n",
       "      <td>0.0</td>\n",
       "      <td>0.0</td>\n",
       "      <td>0.0</td>\n",
       "      <td>0.0</td>\n",
       "      <td>0.0</td>\n",
       "      <td>0.0</td>\n",
       "      <td>1.0</td>\n",
       "      <td>0.0</td>\n",
       "      <td>0.0</td>\n",
       "      <td>...</td>\n",
       "      <td>0.0</td>\n",
       "      <td>0.0</td>\n",
       "      <td>1.0</td>\n",
       "      <td>0.0</td>\n",
       "      <td>0.0</td>\n",
       "      <td>0.0</td>\n",
       "      <td>0.0</td>\n",
       "      <td>0.0</td>\n",
       "      <td>0.0</td>\n",
       "      <td>0.0</td>\n",
       "    </tr>\n",
       "    <tr>\n",
       "      <th>3</th>\n",
       "      <td>1.0</td>\n",
       "      <td>0.0</td>\n",
       "      <td>0.0</td>\n",
       "      <td>0.0</td>\n",
       "      <td>0.0</td>\n",
       "      <td>0.0</td>\n",
       "      <td>0.0</td>\n",
       "      <td>0.0</td>\n",
       "      <td>0.0</td>\n",
       "      <td>0.0</td>\n",
       "      <td>...</td>\n",
       "      <td>0.0</td>\n",
       "      <td>0.0</td>\n",
       "      <td>1.0</td>\n",
       "      <td>0.0</td>\n",
       "      <td>0.0</td>\n",
       "      <td>0.0</td>\n",
       "      <td>0.0</td>\n",
       "      <td>0.0</td>\n",
       "      <td>0.0</td>\n",
       "      <td>0.0</td>\n",
       "    </tr>\n",
       "    <tr>\n",
       "      <th>4</th>\n",
       "      <td>1.0</td>\n",
       "      <td>0.0</td>\n",
       "      <td>0.0</td>\n",
       "      <td>0.0</td>\n",
       "      <td>0.0</td>\n",
       "      <td>0.0</td>\n",
       "      <td>0.0</td>\n",
       "      <td>1.0</td>\n",
       "      <td>0.0</td>\n",
       "      <td>0.0</td>\n",
       "      <td>...</td>\n",
       "      <td>0.0</td>\n",
       "      <td>0.0</td>\n",
       "      <td>0.0</td>\n",
       "      <td>1.0</td>\n",
       "      <td>0.0</td>\n",
       "      <td>0.0</td>\n",
       "      <td>0.0</td>\n",
       "      <td>0.0</td>\n",
       "      <td>0.0</td>\n",
       "      <td>0.0</td>\n",
       "    </tr>\n",
       "    <tr>\n",
       "      <th>...</th>\n",
       "      <td>...</td>\n",
       "      <td>...</td>\n",
       "      <td>...</td>\n",
       "      <td>...</td>\n",
       "      <td>...</td>\n",
       "      <td>...</td>\n",
       "      <td>...</td>\n",
       "      <td>...</td>\n",
       "      <td>...</td>\n",
       "      <td>...</td>\n",
       "      <td>...</td>\n",
       "      <td>...</td>\n",
       "      <td>...</td>\n",
       "      <td>...</td>\n",
       "      <td>...</td>\n",
       "      <td>...</td>\n",
       "      <td>...</td>\n",
       "      <td>...</td>\n",
       "      <td>...</td>\n",
       "      <td>...</td>\n",
       "      <td>...</td>\n",
       "    </tr>\n",
       "    <tr>\n",
       "      <th>17496</th>\n",
       "      <td>0.0</td>\n",
       "      <td>1.0</td>\n",
       "      <td>1.0</td>\n",
       "      <td>0.0</td>\n",
       "      <td>0.0</td>\n",
       "      <td>0.0</td>\n",
       "      <td>0.0</td>\n",
       "      <td>0.0</td>\n",
       "      <td>0.0</td>\n",
       "      <td>0.0</td>\n",
       "      <td>...</td>\n",
       "      <td>1.0</td>\n",
       "      <td>0.0</td>\n",
       "      <td>0.0</td>\n",
       "      <td>0.0</td>\n",
       "      <td>0.0</td>\n",
       "      <td>0.0</td>\n",
       "      <td>0.0</td>\n",
       "      <td>0.0</td>\n",
       "      <td>0.0</td>\n",
       "      <td>0.0</td>\n",
       "    </tr>\n",
       "    <tr>\n",
       "      <th>17497</th>\n",
       "      <td>0.0</td>\n",
       "      <td>1.0</td>\n",
       "      <td>1.0</td>\n",
       "      <td>0.0</td>\n",
       "      <td>0.0</td>\n",
       "      <td>0.0</td>\n",
       "      <td>0.0</td>\n",
       "      <td>0.0</td>\n",
       "      <td>0.0</td>\n",
       "      <td>0.0</td>\n",
       "      <td>...</td>\n",
       "      <td>1.0</td>\n",
       "      <td>0.0</td>\n",
       "      <td>0.0</td>\n",
       "      <td>0.0</td>\n",
       "      <td>0.0</td>\n",
       "      <td>0.0</td>\n",
       "      <td>0.0</td>\n",
       "      <td>0.0</td>\n",
       "      <td>0.0</td>\n",
       "      <td>0.0</td>\n",
       "    </tr>\n",
       "    <tr>\n",
       "      <th>17498</th>\n",
       "      <td>0.0</td>\n",
       "      <td>1.0</td>\n",
       "      <td>0.0</td>\n",
       "      <td>0.0</td>\n",
       "      <td>0.0</td>\n",
       "      <td>0.0</td>\n",
       "      <td>0.0</td>\n",
       "      <td>0.0</td>\n",
       "      <td>0.0</td>\n",
       "      <td>0.0</td>\n",
       "      <td>...</td>\n",
       "      <td>1.0</td>\n",
       "      <td>0.0</td>\n",
       "      <td>0.0</td>\n",
       "      <td>0.0</td>\n",
       "      <td>0.0</td>\n",
       "      <td>0.0</td>\n",
       "      <td>0.0</td>\n",
       "      <td>0.0</td>\n",
       "      <td>0.0</td>\n",
       "      <td>0.0</td>\n",
       "    </tr>\n",
       "    <tr>\n",
       "      <th>17499</th>\n",
       "      <td>0.0</td>\n",
       "      <td>1.0</td>\n",
       "      <td>0.0</td>\n",
       "      <td>0.0</td>\n",
       "      <td>0.0</td>\n",
       "      <td>0.0</td>\n",
       "      <td>0.0</td>\n",
       "      <td>1.0</td>\n",
       "      <td>0.0</td>\n",
       "      <td>0.0</td>\n",
       "      <td>...</td>\n",
       "      <td>1.0</td>\n",
       "      <td>0.0</td>\n",
       "      <td>0.0</td>\n",
       "      <td>0.0</td>\n",
       "      <td>0.0</td>\n",
       "      <td>0.0</td>\n",
       "      <td>0.0</td>\n",
       "      <td>0.0</td>\n",
       "      <td>0.0</td>\n",
       "      <td>0.0</td>\n",
       "    </tr>\n",
       "    <tr>\n",
       "      <th>17500</th>\n",
       "      <td>0.0</td>\n",
       "      <td>1.0</td>\n",
       "      <td>0.0</td>\n",
       "      <td>0.0</td>\n",
       "      <td>0.0</td>\n",
       "      <td>0.0</td>\n",
       "      <td>0.0</td>\n",
       "      <td>1.0</td>\n",
       "      <td>0.0</td>\n",
       "      <td>0.0</td>\n",
       "      <td>...</td>\n",
       "      <td>1.0</td>\n",
       "      <td>0.0</td>\n",
       "      <td>0.0</td>\n",
       "      <td>0.0</td>\n",
       "      <td>0.0</td>\n",
       "      <td>0.0</td>\n",
       "      <td>0.0</td>\n",
       "      <td>0.0</td>\n",
       "      <td>0.0</td>\n",
       "      <td>0.0</td>\n",
       "    </tr>\n",
       "  </tbody>\n",
       "</table>\n",
       "<p>17501 rows × 334 columns</p>\n",
       "</div>"
      ],
      "text/plain": [
       "       0    1    2    3    4    5    6    7    8    9    ...  324  325  326  \\\n",
       "0      1.0  0.0  0.0  0.0  0.0  0.0  0.0  0.0  0.0  0.0  ...  0.0  0.0  0.0   \n",
       "1      1.0  0.0  0.0  0.0  0.0  0.0  0.0  0.0  0.0  0.0  ...  0.0  0.0  1.0   \n",
       "2      1.0  0.0  0.0  0.0  0.0  0.0  0.0  1.0  0.0  0.0  ...  0.0  0.0  1.0   \n",
       "3      1.0  0.0  0.0  0.0  0.0  0.0  0.0  0.0  0.0  0.0  ...  0.0  0.0  1.0   \n",
       "4      1.0  0.0  0.0  0.0  0.0  0.0  0.0  1.0  0.0  0.0  ...  0.0  0.0  0.0   \n",
       "...    ...  ...  ...  ...  ...  ...  ...  ...  ...  ...  ...  ...  ...  ...   \n",
       "17496  0.0  1.0  1.0  0.0  0.0  0.0  0.0  0.0  0.0  0.0  ...  1.0  0.0  0.0   \n",
       "17497  0.0  1.0  1.0  0.0  0.0  0.0  0.0  0.0  0.0  0.0  ...  1.0  0.0  0.0   \n",
       "17498  0.0  1.0  0.0  0.0  0.0  0.0  0.0  0.0  0.0  0.0  ...  1.0  0.0  0.0   \n",
       "17499  0.0  1.0  0.0  0.0  0.0  0.0  0.0  1.0  0.0  0.0  ...  1.0  0.0  0.0   \n",
       "17500  0.0  1.0  0.0  0.0  0.0  0.0  0.0  1.0  0.0  0.0  ...  1.0  0.0  0.0   \n",
       "\n",
       "       327  328  329  330  331  332  333  \n",
       "0      1.0  0.0  0.0  0.0  0.0  0.0  0.0  \n",
       "1      0.0  0.0  0.0  0.0  0.0  0.0  0.0  \n",
       "2      0.0  0.0  0.0  0.0  0.0  0.0  0.0  \n",
       "3      0.0  0.0  0.0  0.0  0.0  0.0  0.0  \n",
       "4      1.0  0.0  0.0  0.0  0.0  0.0  0.0  \n",
       "...    ...  ...  ...  ...  ...  ...  ...  \n",
       "17496  0.0  0.0  0.0  0.0  0.0  0.0  0.0  \n",
       "17497  0.0  0.0  0.0  0.0  0.0  0.0  0.0  \n",
       "17498  0.0  0.0  0.0  0.0  0.0  0.0  0.0  \n",
       "17499  0.0  0.0  0.0  0.0  0.0  0.0  0.0  \n",
       "17500  0.0  0.0  0.0  0.0  0.0  0.0  0.0  \n",
       "\n",
       "[17501 rows x 334 columns]"
      ]
     },
     "execution_count": 109,
     "metadata": {},
     "output_type": "execute_result"
    }
   ],
   "source": [
    "xlog_df"
   ]
  },
  {
   "cell_type": "code",
   "execution_count": 110,
   "metadata": {},
   "outputs": [],
   "source": [
    "from sklearn.tree import DecisionTreeRegressor"
   ]
  },
  {
   "cell_type": "code",
   "execution_count": 111,
   "metadata": {},
   "outputs": [],
   "source": [
    "dt = DecisionTreeRegressor()"
   ]
  },
  {
   "cell_type": "code",
   "execution_count": 112,
   "metadata": {},
   "outputs": [
    {
     "data": {
      "text/plain": [
       "DecisionTreeRegressor()"
      ]
     },
     "execution_count": 112,
     "metadata": {},
     "output_type": "execute_result"
    }
   ],
   "source": [
    "dt.fit(xlog_train,ylog_train)"
   ]
  },
  {
   "cell_type": "code",
   "execution_count": 113,
   "metadata": {},
   "outputs": [],
   "source": [
    "ylog_pred = dt.predict(xlog_test)"
   ]
  },
  {
   "cell_type": "code",
   "execution_count": 114,
   "metadata": {},
   "outputs": [
    {
     "data": {
      "text/plain": [
       "51.84085342733014"
      ]
     },
     "execution_count": 114,
     "metadata": {},
     "output_type": "execute_result"
    }
   ],
   "source": [
    "mean_absolute_error(ylog_test,ylog_pred)"
   ]
  },
  {
   "cell_type": "code",
   "execution_count": 115,
   "metadata": {},
   "outputs": [
    {
     "data": {
      "text/plain": [
       "89.08026092749864"
      ]
     },
     "execution_count": 115,
     "metadata": {},
     "output_type": "execute_result"
    }
   ],
   "source": [
    "np.sqrt(mean_squared_error(ylog_test,ylog_pred))"
   ]
  },
  {
   "cell_type": "code",
   "execution_count": 116,
   "metadata": {},
   "outputs": [
    {
     "name": "stdout",
     "output_type": "stream",
     "text": [
      "51.890803253736834\n",
      "89.01216368051175\n"
     ]
    }
   ],
   "source": [
    "#Decision tree regression using cirterin as friedman_mse\n",
    "dt = DecisionTreeRegressor(criterion=\"friedman_mse\")\n",
    "dt.fit(xlog_train,ylog_train)\n",
    "ylog_pred = dt.predict(xlog_test)\n",
    "print(mean_absolute_error(ylog_test,ylog_pred))\n",
    "print(np.sqrt(mean_squared_error(ylog_test,ylog_pred)))"
   ]
  },
  {
   "cell_type": "code",
   "execution_count": 120,
   "metadata": {},
   "outputs": [
    {
     "name": "stdout",
     "output_type": "stream",
     "text": [
      "52.348124166825365\n",
      "88.61729431893679\n"
     ]
    }
   ],
   "source": [
    "#Decision tree regression using cirterion as mae\n",
    "dt = DecisionTreeRegressor(criterion=\"mae\")\n",
    "dt.fit(xlog_train,ylog_train)\n",
    "ylog_pred = dt.predict(xlog_test)\n",
    "print(mean_absolute_error(ylog_test,ylog_pred))\n",
    "print(np.sqrt(mean_squared_error(ylog_test,ylog_pred)))"
   ]
  },
  {
   "cell_type": "code",
   "execution_count": 117,
   "metadata": {},
   "outputs": [
    {
     "name": "stderr",
     "output_type": "stream",
     "text": [
      "C:\\Users\\Nikhil\\anaconda3\\lib\\site-packages\\sklearn\\tree\\_classes.py:366: FutureWarning: Criterion 'mae' was deprecated in v1.0 and will be removed in version 1.2. Use `criterion='absolute_error'` which is equivalent.\n",
      "  warnings.warn(\n"
     ]
    },
    {
     "name": "stdout",
     "output_type": "stream",
     "text": [
      "44.9998095600838\n",
      "80.5595628881451\n"
     ]
    }
   ],
   "source": [
    "#Decision tree regression using cirterion as mae using max_depth=3 and min_sample_leaf=5\n",
    "dt = DecisionTreeRegressor(criterion=\"mae\",max_depth=10,min_samples_leaf=20)\n",
    "dt.fit(xlog_train,ylog_train)\n",
    "ylog_pred = dt.predict(xlog_test)\n",
    "print(mean_absolute_error(ylog_test,ylog_pred))\n",
    "print(np.sqrt(mean_squared_error(ylog_test,ylog_pred)))"
   ]
  },
  {
   "cell_type": "code",
   "execution_count": 118,
   "metadata": {},
   "outputs": [],
   "source": [
    "# Cross Validation to better understand the accuracy on decision tree"
   ]
  },
  {
   "cell_type": "code",
   "execution_count": 119,
   "metadata": {},
   "outputs": [],
   "source": [
    "from sklearn.model_selection import cross_val_score\n",
    "from sklearn.linear_model import LinearRegression"
   ]
  },
  {
   "cell_type": "code",
   "execution_count": 120,
   "metadata": {},
   "outputs": [],
   "source": [
    "lm= LinearRegression()"
   ]
  },
  {
   "cell_type": "code",
   "execution_count": 121,
   "metadata": {},
   "outputs": [
    {
     "name": "stdout",
     "output_type": "stream",
     "text": [
      "LinearRegression()\n"
     ]
    }
   ],
   "source": [
    "print(lm)"
   ]
  },
  {
   "cell_type": "code",
   "execution_count": 122,
   "metadata": {},
   "outputs": [],
   "source": [
    "scores = cross_val_score(lm, X,Y,cv=10,scoring='neg_mean_absolute_error')"
   ]
  },
  {
   "cell_type": "code",
   "execution_count": 123,
   "metadata": {},
   "outputs": [
    {
     "name": "stdout",
     "output_type": "stream",
     "text": [
      "[162.75865697  61.10659055  46.93939108  37.75342272  37.9775013\n",
      "  32.13648873  35.29429125  56.83694596  33.75246922  60.76165455]\n"
     ]
    }
   ],
   "source": [
    "print(-scores)"
   ]
  },
  {
   "cell_type": "code",
   "execution_count": 124,
   "metadata": {},
   "outputs": [
    {
     "name": "stdout",
     "output_type": "stream",
     "text": [
      "56.531741233723736\n"
     ]
    }
   ],
   "source": [
    "print(-scores.mean())"
   ]
  },
  {
   "cell_type": "code",
   "execution_count": 125,
   "metadata": {},
   "outputs": [],
   "source": [
    "# Cross Validation to better understand the accuracy on decision tree"
   ]
  },
  {
   "cell_type": "code",
   "execution_count": 126,
   "metadata": {},
   "outputs": [],
   "source": [
    "from sklearn.model_selection import cross_val_score"
   ]
  },
  {
   "cell_type": "code",
   "execution_count": 127,
   "metadata": {},
   "outputs": [
    {
     "name": "stderr",
     "output_type": "stream",
     "text": [
      "C:\\Users\\Nikhil\\anaconda3\\lib\\site-packages\\sklearn\\tree\\_classes.py:366: FutureWarning: Criterion 'mae' was deprecated in v1.0 and will be removed in version 1.2. Use `criterion='absolute_error'` which is equivalent.\n",
      "  warnings.warn(\n",
      "C:\\Users\\Nikhil\\anaconda3\\lib\\site-packages\\sklearn\\tree\\_classes.py:366: FutureWarning: Criterion 'mae' was deprecated in v1.0 and will be removed in version 1.2. Use `criterion='absolute_error'` which is equivalent.\n",
      "  warnings.warn(\n",
      "C:\\Users\\Nikhil\\anaconda3\\lib\\site-packages\\sklearn\\tree\\_classes.py:366: FutureWarning: Criterion 'mae' was deprecated in v1.0 and will be removed in version 1.2. Use `criterion='absolute_error'` which is equivalent.\n",
      "  warnings.warn(\n",
      "C:\\Users\\Nikhil\\anaconda3\\lib\\site-packages\\sklearn\\tree\\_classes.py:366: FutureWarning: Criterion 'mae' was deprecated in v1.0 and will be removed in version 1.2. Use `criterion='absolute_error'` which is equivalent.\n",
      "  warnings.warn(\n",
      "C:\\Users\\Nikhil\\anaconda3\\lib\\site-packages\\sklearn\\tree\\_classes.py:366: FutureWarning: Criterion 'mae' was deprecated in v1.0 and will be removed in version 1.2. Use `criterion='absolute_error'` which is equivalent.\n",
      "  warnings.warn(\n",
      "C:\\Users\\Nikhil\\anaconda3\\lib\\site-packages\\sklearn\\tree\\_classes.py:366: FutureWarning: Criterion 'mae' was deprecated in v1.0 and will be removed in version 1.2. Use `criterion='absolute_error'` which is equivalent.\n",
      "  warnings.warn(\n",
      "C:\\Users\\Nikhil\\anaconda3\\lib\\site-packages\\sklearn\\tree\\_classes.py:366: FutureWarning: Criterion 'mae' was deprecated in v1.0 and will be removed in version 1.2. Use `criterion='absolute_error'` which is equivalent.\n",
      "  warnings.warn(\n",
      "C:\\Users\\Nikhil\\anaconda3\\lib\\site-packages\\sklearn\\tree\\_classes.py:366: FutureWarning: Criterion 'mae' was deprecated in v1.0 and will be removed in version 1.2. Use `criterion='absolute_error'` which is equivalent.\n",
      "  warnings.warn(\n",
      "C:\\Users\\Nikhil\\anaconda3\\lib\\site-packages\\sklearn\\tree\\_classes.py:366: FutureWarning: Criterion 'mae' was deprecated in v1.0 and will be removed in version 1.2. Use `criterion='absolute_error'` which is equivalent.\n",
      "  warnings.warn(\n",
      "C:\\Users\\Nikhil\\anaconda3\\lib\\site-packages\\sklearn\\tree\\_classes.py:366: FutureWarning: Criterion 'mae' was deprecated in v1.0 and will be removed in version 1.2. Use `criterion='absolute_error'` which is equivalent.\n",
      "  warnings.warn(\n"
     ]
    }
   ],
   "source": [
    "dt = DecisionTreeRegressor(criterion=\"mae\",max_depth=10,min_samples_leaf=20)\n",
    "scores = cross_val_score(dt, X,Y,cv=10,scoring='neg_mean_absolute_error')"
   ]
  },
  {
   "cell_type": "code",
   "execution_count": 128,
   "metadata": {},
   "outputs": [
    {
     "name": "stdout",
     "output_type": "stream",
     "text": [
      "[174.8195317   82.09342857  50.02485714  41.15742857  38.77857143\n",
      "  29.88        29.70142857  48.79514286  32.31857143  52.248     ]\n"
     ]
    }
   ],
   "source": [
    "print(-scores)"
   ]
  },
  {
   "cell_type": "code",
   "execution_count": 129,
   "metadata": {},
   "outputs": [
    {
     "data": {
      "text/plain": [
       "57.98169602676023"
      ]
     },
     "execution_count": 129,
     "metadata": {},
     "output_type": "execute_result"
    }
   ],
   "source": [
    "-scores.mean()"
   ]
  },
  {
   "cell_type": "code",
   "execution_count": 142,
   "metadata": {},
   "outputs": [],
   "source": [
    "from sklearn.model_selection import GridSearchCV"
   ]
  },
  {
   "cell_type": "code",
   "execution_count": 143,
   "metadata": {},
   "outputs": [],
   "source": [
    "max_depth_range = list(range(1,5))"
   ]
  },
  {
   "cell_type": "code",
   "execution_count": 144,
   "metadata": {},
   "outputs": [],
   "source": [
    "param_grid = dict(max_depth = max_depth_range)"
   ]
  },
  {
   "cell_type": "code",
   "execution_count": 145,
   "metadata": {},
   "outputs": [],
   "source": [
    "grid = GridSearchCV(dt, param_grid, cv=10,scoring='neg_mean_absolute_error',return_train_score=False)"
   ]
  },
  {
   "cell_type": "code",
   "execution_count": 146,
   "metadata": {},
   "outputs": [
    {
     "name": "stderr",
     "output_type": "stream",
     "text": [
      "C:\\Users\\abagarwa\\AppData\\Local\\Continuum\\anaconda3\\lib\\site-packages\\sklearn\\model_selection\\_search.py:813: DeprecationWarning: The default of the `iid` parameter will change from True to False in version 0.22 and will be removed in 0.24. This will change numeric results when test-set sizes are unequal.\n",
      "  DeprecationWarning)\n"
     ]
    },
    {
     "data": {
      "text/plain": [
       "GridSearchCV(cv=10, error_score='raise-deprecating',\n",
       "             estimator=DecisionTreeRegressor(criterion='mae', max_depth=10,\n",
       "                                             max_features=None,\n",
       "                                             max_leaf_nodes=None,\n",
       "                                             min_impurity_decrease=0.0,\n",
       "                                             min_impurity_split=None,\n",
       "                                             min_samples_leaf=20,\n",
       "                                             min_samples_split=2,\n",
       "                                             min_weight_fraction_leaf=0.0,\n",
       "                                             presort=False, random_state=None,\n",
       "                                             splitter='best'),\n",
       "             iid='warn', n_jobs=None, param_grid={'max_depth': [1, 2, 3, 4]},\n",
       "             pre_dispatch='2*n_jobs', refit=True, return_train_score=False,\n",
       "             scoring='neg_mean_absolute_error', verbose=0)"
      ]
     },
     "execution_count": 146,
     "metadata": {},
     "output_type": "execute_result"
    }
   ],
   "source": [
    "grid.fit(X,Y)"
   ]
  },
  {
   "cell_type": "code",
   "execution_count": 147,
   "metadata": {},
   "outputs": [
    {
     "name": "stdout",
     "output_type": "stream",
     "text": [
      "-59.136820753099826\n",
      "{'max_depth': 4}\n",
      "DecisionTreeRegressor(criterion='mae', max_depth=4, max_features=None,\n",
      "                      max_leaf_nodes=None, min_impurity_decrease=0.0,\n",
      "                      min_impurity_split=None, min_samples_leaf=20,\n",
      "                      min_samples_split=2, min_weight_fraction_leaf=0.0,\n",
      "                      presort=False, random_state=None, splitter='best')\n"
     ]
    }
   ],
   "source": [
    "print(grid.best_score_)\n",
    "print(grid.best_params_)\n",
    "print(grid.best_estimator_)"
   ]
  },
  {
   "cell_type": "code",
   "execution_count": null,
   "metadata": {},
   "outputs": [],
   "source": []
  },
  {
   "cell_type": "code",
   "execution_count": 122,
   "metadata": {},
   "outputs": [],
   "source": [
    "#tyring with Random Forest Regressor\n",
    "from sklearn.ensemble import RandomForestRegressor"
   ]
  },
  {
   "cell_type": "code",
   "execution_count": 123,
   "metadata": {},
   "outputs": [],
   "source": [
    "rf = RandomForestRegressor()"
   ]
  },
  {
   "cell_type": "code",
   "execution_count": 124,
   "metadata": {},
   "outputs": [
    {
     "name": "stderr",
     "output_type": "stream",
     "text": [
      "C:\\Users\\abagarwa\\AppData\\Local\\Continuum\\anaconda3\\lib\\site-packages\\sklearn\\ensemble\\forest.py:245: FutureWarning: The default value of n_estimators will change from 10 in version 0.20 to 100 in 0.22.\n",
      "  \"10 in version 0.20 to 100 in 0.22.\", FutureWarning)\n"
     ]
    },
    {
     "data": {
      "text/plain": [
       "RandomForestRegressor(bootstrap=True, criterion='mse', max_depth=None,\n",
       "                      max_features='auto', max_leaf_nodes=None,\n",
       "                      min_impurity_decrease=0.0, min_impurity_split=None,\n",
       "                      min_samples_leaf=1, min_samples_split=2,\n",
       "                      min_weight_fraction_leaf=0.0, n_estimators=10,\n",
       "                      n_jobs=None, oob_score=False, random_state=None,\n",
       "                      verbose=0, warm_start=False)"
      ]
     },
     "execution_count": 124,
     "metadata": {},
     "output_type": "execute_result"
    }
   ],
   "source": [
    "rf.fit(xlog_train,ylog_train)"
   ]
  },
  {
   "cell_type": "code",
   "execution_count": 125,
   "metadata": {},
   "outputs": [],
   "source": [
    "ylog_pred = rf.predict(xlog_test)"
   ]
  },
  {
   "cell_type": "code",
   "execution_count": 126,
   "metadata": {},
   "outputs": [
    {
     "data": {
      "text/plain": [
       "49.13658699860956"
      ]
     },
     "execution_count": 126,
     "metadata": {},
     "output_type": "execute_result"
    }
   ],
   "source": [
    "mean_absolute_error(ylog_test,ylog_pred)"
   ]
  },
  {
   "cell_type": "code",
   "execution_count": 127,
   "metadata": {},
   "outputs": [
    {
     "data": {
      "text/plain": [
       "83.41102545906939"
      ]
     },
     "execution_count": 127,
     "metadata": {},
     "output_type": "execute_result"
    }
   ],
   "source": [
    "np.sqrt(mean_squared_error(ylog_test,ylog_pred))"
   ]
  },
  {
   "cell_type": "code",
   "execution_count": 128,
   "metadata": {},
   "outputs": [
    {
     "name": "stderr",
     "output_type": "stream",
     "text": [
      "C:\\Users\\abagarwa\\AppData\\Local\\Continuum\\anaconda3\\lib\\site-packages\\sklearn\\ensemble\\forest.py:245: FutureWarning: The default value of n_estimators will change from 10 in version 0.20 to 100 in 0.22.\n",
      "  \"10 in version 0.20 to 100 in 0.22.\", FutureWarning)\n"
     ]
    },
    {
     "data": {
      "text/plain": [
       "81.94737778398587"
      ]
     },
     "execution_count": 128,
     "metadata": {},
     "output_type": "execute_result"
    }
   ],
   "source": [
    "rf = RandomForestRegressor(criterion='mae')\n",
    "rf.fit(xlog_train,ylog_train)\n",
    "ylog_pred = rf.predict(xlog_test)\n",
    "mean_absolute_error(ylog_test,ylog_pred)\n",
    "np.sqrt(mean_squared_error(ylog_test,ylog_pred))"
   ]
  },
  {
   "cell_type": "code",
   "execution_count": null,
   "metadata": {},
   "outputs": [],
   "source": []
  },
  {
   "cell_type": "code",
   "execution_count": null,
   "metadata": {},
   "outputs": [],
   "source": []
  },
  {
   "cell_type": "code",
   "execution_count": null,
   "metadata": {},
   "outputs": [],
   "source": []
  },
  {
   "cell_type": "code",
   "execution_count": null,
   "metadata": {},
   "outputs": [],
   "source": []
  },
  {
   "cell_type": "code",
   "execution_count": null,
   "metadata": {},
   "outputs": [],
   "source": []
  },
  {
   "cell_type": "code",
   "execution_count": null,
   "metadata": {},
   "outputs": [],
   "source": []
  },
  {
   "cell_type": "code",
   "execution_count": null,
   "metadata": {},
   "outputs": [],
   "source": []
  },
  {
   "cell_type": "code",
   "execution_count": null,
   "metadata": {},
   "outputs": [],
   "source": []
  },
  {
   "cell_type": "code",
   "execution_count": null,
   "metadata": {},
   "outputs": [],
   "source": []
  }
 ],
 "metadata": {
  "kernelspec": {
   "display_name": "Python 3",
   "language": "python",
   "name": "python3"
  },
  "language_info": {
   "codemirror_mode": {
    "name": "ipython",
    "version": 3
   },
   "file_extension": ".py",
   "mimetype": "text/x-python",
   "name": "python",
   "nbconvert_exporter": "python",
   "pygments_lexer": "ipython3",
   "version": "3.8.8"
  }
 },
 "nbformat": 4,
 "nbformat_minor": 2
}
